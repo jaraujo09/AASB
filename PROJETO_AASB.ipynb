{
 "cells": [
  {
   "attachments": {},
   "cell_type": "markdown",
   "metadata": {},
   "source": [
    "TRABALHO AASB"
   ]
  },
  {
   "attachments": {},
   "cell_type": "markdown",
   "metadata": {},
   "source": [
    "-> Implementação dos algoritmos de manipulação de sequências: transcrição, tradução, ORFs, extração de todas as potenciais proteínas"
   ]
  },
  {
   "cell_type": "code",
   "execution_count": null,
   "metadata": {},
   "outputs": [],
   "source": [
    "class Seq:\n",
    "    \"\"\"\n",
    "    Implementação de algoritmos de manipulação de sequências: Transcrição, Tradução, ORFS, Extração de toda\n",
    "    \"\"\"\n",
    "\n",
    "    def __init__(self, seq: str):\n",
    "        if type(seq) != str:\n",
    "            raise TypeError(\"Insira uma sequência com o tipo 'string'.\")\n",
    "\n",
    "        # for c in seq:\n",
    "            # if c.upper() not in \"ACTG\":\n",
    "                # raise ValueError(\"A sequência inserida não é DNA.\")\n",
    "        # self.seq = seq.upper()\n",
    "    \n",
    "    def __str__(self):\n",
    "        \"\"\"\n",
    "        Devolve a sequência em string\n",
    "        \"\"\"\n",
    "        return f'Sequência: {self.seq}'\n",
    "\n",
    "    def __len__(self):\n",
    "        \"\"\"\n",
    "        Devolve o tamanho da sequência\n",
    "        \"\"\"\n",
    "        return len(self.seq)\n",
    "    \n",
    "    def __getitem__(self, n):\n",
    "        \"\"\"\n",
    "        Interface para a indexação []\n",
    "        \"\"\"\n",
    "        return self.seq[n]\n",
    "\n",
    "    '''def mol_type(self):\n",
    "        \"\"\"\n",
    "        identifica o tipo de molécula: DNA, RNA ou AMINO\n",
    "        \"\"\"\n",
    "        if (self.type in \"AGTC\"): return \"DNA\"\n",
    "        elif (self.type in \"ACGU\"): return \"RNA\"\n",
    "        elif (self.type in \"ABCDEFGHIJKLMNOPQRSTUVXYWZ\"): return \"Proteina\"\n",
    "        else: return None'''\n",
    "\n",
    "    def mol_type(self):\n",
    "        \"\"\"\n",
    "        identifica o tipo de molécula: DNA, RNA ou AMINO\n",
    "        \"\"\"\n",
    "        if (self.type == \"DNA\"): return \"AGTC\"\n",
    "        elif (self.type == \"RNA\"): return \"ACGU\"\n",
    "        elif (self.type == \"PROTEIN\"): return \"ABCDEFGHIJKLMNOPQRSTUVXYWZ\"\n",
    "        else: return None\n",
    "\n",
    "    def validar_type(self):\n",
    "        \"\"\"\n",
    "        valida os elementos da sequência\n",
    "        \"\"\"\n",
    "        val = self.validar_type()\n",
    "        res = True\n",
    "        index = 0\n",
    "        while index < len(self.seq) and res:\n",
    "            if self.seq[index] not in val:\n",
    "                res = False\n",
    "            else:\n",
    "                index += 1\n",
    "        return res\n",
    "\n",
    "\n",
    "    def transcricao(self):\n",
    "        \"\"\"\n",
    "        Devolve a sequência traduzida, substituindo 'T' por 'U'\n",
    "        \"\"\"\n",
    "        if (self.type == \"DNA\"):\n",
    "            return Seq(self.seq.replace('T','U'), \"RNA\")\n",
    "        else:\n",
    "            return None\n",
    "\n",
    "    def reverse_complement(self):\n",
    "        \"\"\"\n",
    "        Faz o complemento inverso da sequência de DNA, substituindo \"A\" por \"T\", \"T\" por \"A\", \"C\" por \"G\" e \"G\" por \"C\", e inverte a ordem da string [::-1]\n",
    "        \"\"\"\n",
    "        if (self.seq != \"DNA\"): return None\n",
    "        x = self.seq.replace('A','t').replace('T','a').replace('C','g').replace('G','c')\n",
    "        comp = x.upper()[::-1]\n",
    "        return Seq(comp)\n",
    "    \n",
    "    def get_orfs(self):\n",
    "        \"\"\"\n",
    "        Recebe uma sequência de DNA \"\"\"\n",
    "        rna = self.seq\n",
    "        return [rna[i:i+3] for i in range(0,len(rna),3) if i+3 <= len(rna)]\n",
    "\n",
    "    def codon_to_amino(self):\n",
    "        gencode = {\n",
    "    'ATA':'I', 'ATC':'I', 'ATT':'I', 'ATG':'M',\n",
    "    'ACA':'T', 'ACC':'T', 'ACG':'T', 'ACT':'T',\n",
    "    'AAC':'N', 'AAT':'N', 'AAA':'K', 'AAG':'K',\n",
    "    'AGC':'S', 'AGT':'S', 'AGA':'R', 'AGG':'R',\n",
    "    'CTA':'L', 'CTC':'L', 'CTG':'L', 'CTT':'L',\n",
    "    'CCA':'P', 'CCC':'P', 'CCG':'P', 'CCT':'P',\n",
    "    'CAC':'H', 'CAT':'H', 'CAA':'Q', 'CAG':'Q',\n",
    "    'CGA':'R', 'CGC':'R', 'CGG':'R', 'CGT':'R',\n",
    "    'GTA':'V', 'GTC':'V', 'GTG':'V', 'GTT':'V',\n",
    "    'GCA':'A', 'GCC':'A', 'GCG':'A', 'GCT':'A',\n",
    "    'GAC':'D', 'GAT':'D', 'GAA':'E', 'GAG':'E',\n",
    "    'GGA':'G', 'GGC':'G', 'GGG':'G', 'GGT':'G',\n",
    "    'TCA':'S', 'TCC':'S', 'TCG':'S', 'TCT':'S',\n",
    "    'TTC':'F', 'TTT':'F', 'TTA':'L', 'TTG':'L',\n",
    "    'TAC':'Y', 'TAT':'Y', 'TAA':'_', 'TAG':'_',\n",
    "    'TGC':'C', 'TGT':'C', 'TGA':'_', 'TGG':'W'}"
   ]
  },
  {
   "attachments": {},
   "cell_type": "markdown",
   "metadata": {},
   "source": [
    "-> Algoritmos de alinhamento global e local entre sequências e reconstrução do respetivo alinhamento\n"
   ]
  },
  {
   "attachments": {},
   "cell_type": "markdown",
   "metadata": {},
   "source": [
    "-> Alinhamento múltiplo\n"
   ]
  },
  {
   "attachments": {},
   "cell_type": "markdown",
   "metadata": {},
   "source": [
    "-> Blast simplificado e sua utilização para ir buscar sequências similares à base de dados SQL de sequências\n"
   ]
  },
  {
   "attachments": {},
   "cell_type": "markdown",
   "metadata": {},
   "source": [
    "-> Motifs PROSITE e enzimas de restrição\n"
   ]
  },
  {
   "attachments": {},
   "cell_type": "markdown",
   "metadata": {},
   "source": [
    "-> Motifs probabilísticos baseados num alinhamento multiplo"
   ]
  },
  {
   "cell_type": "code",
   "execution_count": null,
   "metadata": {},
   "outputs": [],
   "source": []
  }
 ],
 "metadata": {
  "kernelspec": {
   "display_name": "Python 3",
   "language": "python",
   "name": "python3"
  },
  "language_info": {
   "name": "python",
   "version": "3.10.5 (tags/v3.10.5:f377153, Jun  6 2022, 16:14:13) [MSC v.1929 64 bit (AMD64)]"
  },
  "orig_nbformat": 4,
  "vscode": {
   "interpreter": {
    "hash": "fb4569285eef3a3450cb62085a5b1e0da4bce0af555edc33dcf29baf3acc1368"
   }
  }
 },
 "nbformat": 4,
 "nbformat_minor": 2
}
