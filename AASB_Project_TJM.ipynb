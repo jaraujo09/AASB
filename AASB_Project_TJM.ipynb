{
  "nbformat": 4,
  "nbformat_minor": 0,
  "metadata": {
    "colab": {
      "provenance": []
    },
    "kernelspec": {
      "name": "python3",
      "display_name": "Python 3"
    },
    "language_info": {
      "name": "python"
    }
  },
  "cells": [
    {
      "cell_type": "markdown",
      "source": [
        "\n",
        "# TRABALHO AASB"
      ],
      "metadata": {
        "id": "qXq1TnNZNBL9"
      }
    },
    {
      "cell_type": "markdown",
      "source": [
        "**Joana Araújo pg49836**\n",
        "\n",
        "**Mariana Braga pg45966**\n",
        "\n",
        "**Tiago Silva pg49849**\n"
      ],
      "metadata": {
        "id": "jP3AOSmWHzEP"
      }
    },
    {
      "cell_type": "markdown",
      "source": [
        "O presente trabalho visa corresponder às componentes lecionadas na cadeira de Algoritmos para Análise de Sequências Biológicas.\n",
        "\n",
        "Para a organização deste trabalho, foram realizadas várias classes que respondem a cada tópico sugerido no enunciado.\n",
        "\n",
        "Foi criado um índice lateral, onde organizamos por secções os métodos de trabalho. Primeiramente definimos a class com as diferentes funções e mostramos resultados exemplo. Na secção seguinte são realizados os testes (unittest) para a class respetiva. Depois sugerimos uma secção de Documentação que imprime toda a documentação da class respetiva. Por fim, deixamos algumas considerações do trabalho desenvolvido para cada class. "
      ],
      "metadata": {
        "id": "yP5tVIE22ky3"
      }
    },
    {
      "cell_type": "markdown",
      "source": [
        "## Class Seq"
      ],
      "metadata": {
        "id": "p0OCzy6oZxrf"
      }
    },
    {
      "cell_type": "code",
      "execution_count": null,
      "metadata": {
        "id": "bXyvD12vMd3V"
      },
      "outputs": [],
      "source": [
        "class Seq:\n",
        "    \"\"\"\n",
        "    Implementação de algoritmos de manipulação de sequências de DNA: Transcrição, Tradução, ORFS, Extração de todas as potenciais proteínas\n",
        "\n",
        "      Parâmetros:\n",
        "      ----------\n",
        "           seq : str\n",
        "               sequência de DNA a manipular\n",
        "      \n",
        "      Métodos:\n",
        "      ----------\n",
        "            mol_type(self) -> str:\n",
        "                Função que identifica que tipo de molécula está presente, de acordo com a combinação de letras que apresenta\n",
        "\n",
        "                Returns:\n",
        "                  String que identifica que tipo de molécula está presente: DNA, RNA ou AMINO\n",
        "\n",
        "\n",
        "            reverse_complement(self) -> str:\n",
        "                Faz o complemento inverso da sequência de DNA, substituindo \"A\" por \"T\", \"T\" por \"A\", \"C\" por \"G\" e \"G\" por \"C\", e inverte a ordem da string [::-1]\n",
        "\n",
        "                Returns:\n",
        "                  String com o complemento inverso da sequência de DNA, respeitando a direção 5'-3'\n",
        "\n",
        "\n",
        "            transcricao(self) -> str:\n",
        "                Realiza a transcrição da sequência, substituindo 'T' por 'U'\n",
        "\n",
        "                Returns:\n",
        "                  String com a sequência de DNA transcrita para RNA\n",
        "\n",
        "\n",
        "            get_codons(self) -> list:\n",
        "                Recebe uma sequência de DNA ou RNA e devolve uma lista dos respetivos codões.\n",
        "\n",
        "                Returns:\n",
        "                  Lista com os codões respetivos da sequência de DNA ou RNA dada\n",
        "            \n",
        "\n",
        "            get_orfs(self) -> list:\n",
        "                Função que obtém todas as Open Reading Frames das duas cadeias de DNA\n",
        "\n",
        "                Returns:\n",
        "                  Lista com as ORFs encontradas em ambas as cadeias de DNA\n",
        "            \n",
        "\n",
        "            codon_to_amino(self) -> list:\n",
        "                Transforma os codões de DNA ou RNA nos respetivos aminoácidos, de acordo com o código genético\n",
        "\n",
        "                Returns:\n",
        "                  Lista com os aminoácidos, que foram convertidos a partir dos codões obtidos anteriormente, respeitando o código genético\n",
        "\n",
        "\n",
        "            traducao(self, firstpos = 0) -> str:\n",
        "                Tradução de uma sequência de DNA para uma sequência de proteínas\n",
        "                Variáveis:\n",
        "                  firstpos : int, opcional\n",
        "                    O argumento firstpos recebe o valor zero por default, se não for passado outro valor.\n",
        "                Returns:\n",
        "                  Retorna a tradução de uma sequência de DNA para uma sequência de proteínas\n",
        "            \n",
        "            \n",
        "            proteins(self) -> list:\n",
        "                Recebe uma sequência de DNA, RNA ou AMINO e devolve uma lista de possíveis proteínas, sabendo que começam com o aminoácido\n",
        "                M (metionina) e termina em \"_\" (stop)\n",
        "\n",
        "                Returns:\n",
        "                  Lista com as proteínas possíveis\n",
        "   \n",
        "    \"\"\"\n",
        "    \n",
        "    def __init__(self, seq: str) -> None:\n",
        "      \"\"\"\n",
        "      Construtor com os atributos necessários para a class Seq\n",
        "\n",
        "      seq : str\n",
        "          sequência de DNA a manipular\n",
        "      \"\"\"\n",
        "      self.seq = seq.upper()\n",
        "\n",
        "      if type(self.seq) != str:\n",
        "          raise TypeError(\"Insira uma sequência com o tipo 'string'.\")\n",
        "\n",
        "      if self.seq == \"\":\n",
        "        raise Exception(\"Insira uma sequência.\")\n",
        "    \n",
        "\n",
        "    def mol_type(self) -> str:\n",
        "      \"\"\"\n",
        "      Função que identifica e retorna que tipo de molécula está presente, de acordo com a combinação de letras que apresenta\n",
        "      \n",
        "      Returns:\n",
        "        String que identifica que tipo de molécula está presente: DNA, RNA ou AMINO\n",
        "      \"\"\"\n",
        "      if len([c for c in self.seq if c not in \"AGTC\"]) == 0:\n",
        "          return \"DNA\"\n",
        "      if len([c for c in self.seq if c not in \"AGUC\"]) == 0:\n",
        "          return \"RNA\"\n",
        "      if len([c for c in self.seq if c not in \"ABCDEFGHIJKLMNOPQRSTUVWXYZ_\"]) == 0:\n",
        "          return \"AMINO\"\n",
        "      \n",
        "      else:\n",
        "          raise TypeError(\"Insira uma sequência válida.\")\n",
        "\n",
        "\n",
        "    def __str__(self) -> str:\n",
        "        \"\"\"\n",
        "        Devolve a sequência em string\n",
        "        \"\"\"\n",
        "        return str(self.seq)\n",
        "\n",
        "    def __len__(self) -> int:\n",
        "        \"\"\"\n",
        "        Devolve o tamanho da sequência\n",
        "        \"\"\"\n",
        "        return len(self.seq)\n",
        "    \n",
        "    def __getitem__(self, n) -> str:\n",
        "        \"\"\"\n",
        "        Interface para a indexação []\n",
        "        \"\"\"\n",
        "        return self.seq[n]\n",
        "    \n",
        "    def __repr__(self) -> str:\n",
        "        \"\"\"\n",
        "        Retorna a representação 'printable' do objeto especificado como uma string\n",
        "        \"\"\"\n",
        "        return str(self)\n",
        "\n",
        "    def reverse_complement(self) -> str:\n",
        "        \"\"\"\n",
        "        Faz o complemento inverso da sequência de DNA, substituindo \"A\" por \"T\", \"T\" por \"A\", \"C\" por \"G\" e \"G\" por \"C\", e inverte a ordem da string [::-1]\n",
        "        \n",
        "        Returns:\n",
        "          String com o complemento inverso da sequência de DNA, respeitando a direção 5'-3'\n",
        "        \"\"\"\n",
        "        if (self.mol_type() != \"DNA\"): return None\n",
        "        x = self.seq.replace('A','t').replace('T','a').replace('C','g').replace('G','c')\n",
        "        comp = x.upper()[::-1]\n",
        "        return comp\n",
        "\n",
        "    def transcricao(self) -> str:\n",
        "        \"\"\"\n",
        "        Devolve a sequência transcrita, substituindo 'T' por 'U'\n",
        "\n",
        "        Returns:\n",
        "          String com a sequência de DNA transcrita para RNA\n",
        "        \"\"\"\n",
        "        if (self.mol_type() == \"DNA\"):\n",
        "            return self.seq.replace('T','U')[::-1]\n",
        "        else:\n",
        "            return None\n",
        "\n",
        "    def get_codons(self) -> list:\n",
        "        \"\"\"\n",
        "        Recebe uma sequência de DNA ou RNA e retorna uma lista de codões.\n",
        "\n",
        "        Returns:\n",
        "          Lista com os codões respetivos da sequência de DNA ou RNA dada\n",
        "        \"\"\"\n",
        "        if (self.mol_type() == \"DNA\" or self.mol_type() == \"RNA\"):\n",
        "          dna = self.seq\n",
        "          codon = []\n",
        "          for x in range (0, len(dna),3):\n",
        "              codon.append(dna[x:x+3])\n",
        "          for c in codon:\n",
        "              if len(c) % 3 != 0:\n",
        "                codon.pop()\n",
        "          return codon\n",
        "        else:\n",
        "          return None\n",
        "\n",
        "    def get_orfs(self) -> list:\n",
        "      \"\"\"\n",
        "      Função que obtém todas as Open Reading Frames das duas cadeias de DNA\n",
        "\n",
        "      Returns:\n",
        "        Lista com as ORFs encontradas em ambas as cadeias de DNA\n",
        "      \"\"\"\n",
        "      if (self.mol_type() != \"DNA\"): return None\n",
        "      orf = []\n",
        "      c_orf = []\n",
        "      allorfs = []\n",
        "      for s in range(0,len(self.seq)):\n",
        "              if len(self.seq[s:s+3]) % 3 == 0:\n",
        "                  orf.append(self.seq[s:s+3])\n",
        "              if len(self.seq[s:s+3]) % 3 == 0:\n",
        "                  c_orf.append(self.reverse_complement()[s:s+3])\n",
        "                  \n",
        "              if len(orf)>= len(self.seq):\n",
        "                  break\n",
        "      allorfs.append(orf)\n",
        "      allorfs.append(c_orf)\n",
        "      a = ' '.join(map(str,allorfs))\n",
        "           \n",
        "      return a\n",
        "\n",
        "    def codon_to_amino(self) -> list:\n",
        "      \"\"\"\n",
        "      Transforma os codões de DNA ou RNA nos respetivos aminoácidos, de acordo com o código genético\n",
        "\n",
        "      Returns:\n",
        "        Lista com os aminoácidos, que foram convertidos a partir dos codões obtidos anteriormente, respeitando o código genético\n",
        "      \"\"\"\n",
        "      if (self.mol_type() == \"DNA\"):\n",
        "        gencode = {\"GCT\":\"A\", \"GCC\":\"A\", \"GCA\":\"A\", \"GCC\":\"A\", \"TGT\":\"C\", \"TGC\":\"C\", \n",
        "              \"GAT\":\"D\", \"GAC\":\"D\", \"GAA\":\"E\", \"GAG\":\"E\", \"TTT\":\"F\", \"TTC\":\"F\",\n",
        "              \"GGT\":\"G\", \"GGC\":\"G\", \"GGA\":\"G\", \"GGG\":\"G\", \"CAT\":\"H\", \"CAC\":\"H\",\n",
        "              \"ATA\":\"I\", \"ATT\":\"I\", \"ATC\":\"I\", \"AAA\":\"K\", \"AAG\":\"K\", \"TTA\":\"L\",\n",
        "              \"TTG\":\"L\", \"CTT\":\"L\", \"CTC\":\"L\", \"CTA\":\"L\", \"CTG\":\"L\", \"ATG\":\"M\", \n",
        "              \"AAT\":\"N\", \"AAC\":\"N\", \"CCT\":\"P\", \"CCC\":\"P\", \"CCA\":\"P\", \"CCG\":\"P\", \n",
        "              \"CAA\":\"Q\", \"CAG\":\"Q\", \"CGT\":\"R\", \"CGC\":\"R\", \"CGA\":\"R\", \"CGG\":\"R\", \n",
        "              \"AGA\":\"R\", \"AGG\":\"R\", \"TCT\":\"S\", \"TCC\":\"S\", \"TCA\":\"S\", \"TCG\":\"S\", \n",
        "              \"AGT\":\"S\", \"AGC\":\"S\", \"ACT\":\"T\", \"ACC\":\"T\", \"ACA\":\"T\", \"ACG\":\"T\",\n",
        "              \"GTT\":\"V\", \"GTC\":\"V\", \"GTA\":\"V\", \"GTG\":\"V\", \"TGG\":\"W\", \"TAT\":\"Y\",  \n",
        "              \"TAC\":\"Y\", \"TAA\":\"_\", \"TAG\":\"_\", \"TGA\":\"_\"}\n",
        "        amino_list = []\n",
        "        \n",
        "        for codon in self.get_codons():\n",
        "          amino_list.append(gencode[codon])\n",
        "        return amino_list\n",
        "      \n",
        "      elif (self.mol_type() == \"RNA\"):\n",
        "        gencode_rna = {\"GCU\":\"A\", \"GCC\":\"A\", \"GCA\":\"A\", \"GCC\":\"A\", \"UGU\":\"C\", \"UGC\":\"C\", \n",
        "              \"GAU\":\"D\", \"GAC\":\"D\", \"GAA\":\"E\", \"GAG\":\"E\", \"UUU\":\"F\", \"UUC\":\"F\",\n",
        "              \"GGU\":\"G\", \"GGC\":\"G\", \"GGA\":\"G\", \"GGG\":\"G\", \"CAU\":\"H\", \"CAC\":\"H\",\n",
        "              \"AUA\":\"I\", \"AUU\":\"I\", \"AUC\":\"I\", \"AAA\":\"K\", \"AAG\":\"K\", \"UUA\":\"L\",\n",
        "              \"UUG\":\"L\", \"CUU\":\"L\", \"CUC\":\"L\", \"CUA\":\"L\", \"CUG\":\"L\", \"AUG\":\"M\", \n",
        "              \"AAU\":\"N\", \"AAC\":\"N\", \"CCU\":\"P\", \"CCC\":\"P\", \"CCA\":\"P\", \"CCG\":\"P\", \n",
        "              \"CAA\":\"Q\", \"CAG\":\"Q\", \"CGU\":\"R\", \"CGC\":\"R\", \"CGA\":\"R\", \"CGG\":\"R\", \n",
        "              \"AGA\":\"R\", \"AGG\":\"R\", \"UCU\":\"S\", \"UCC\":\"S\", \"UCA\":\"S\", \"UCG\":\"S\", \n",
        "              \"AGU\":\"S\", \"AGC\":\"S\", \"ACU\":\"T\", \"ACC\":\"T\", \"ACA\":\"T\", \"ACG\":\"T\",\n",
        "              \"GUU\":\"V\", \"GUC\":\"V\", \"GUA\":\"V\", \"GUG\":\"V\", \"UGG\":\"W\", \"UAU\":\"Y\",  \n",
        "              \"UAC\":\"Y\", \"UAA\":\"_\", \"UAG\":\"_\", \"UGA\":\"_\"}\n",
        "        amino_list = []\n",
        "        \n",
        "        for codon in self.get_codons():\n",
        "          amino_list.append(gencode_rna[codon])\n",
        "        return amino_list\n",
        "      \n",
        "      else:\n",
        "        return None\n",
        "\n",
        "    def traducao(self, firstpos = 0) -> str:\n",
        "        \"\"\"\n",
        "        Tradução de uma sequência de DNA para uma sequência de proteínas\n",
        "            Variáveis:\n",
        "              firstpos : int, opcional\n",
        "                Se o argumento firstpos não for passsado, recebe o valor zero.\n",
        "            Returns:\n",
        "              Retorna a tradução de uma sequência de DNA para uma sequência de proteínas\n",
        "        \"\"\"\n",
        "        if (self.mol_type() == \"DNA\" or self.mol_type() == \"RNA\"):\n",
        "          seqs = self.seq\n",
        "          seqaa = self.codon_to_amino()\n",
        "          seqaa = \"\".join(seqaa)\n",
        "          return seqaa\n",
        "        else:\n",
        "          return None\n",
        "\n",
        "    def proteins(self) -> list:\n",
        "        \"\"\"\n",
        "        Recebe uma sequência de DNA, RNA ou AMINO e devolve uma lista de possíveis proteínas, sabendo que começam com o aminoácido\n",
        "        M (metionina) e termina em \"_\" (stop)\n",
        "\n",
        "        Returns:\n",
        "          Lista com as proteínas possíveis\n",
        "        \"\"\"\n",
        "        mol_tipo = self.mol_type()\n",
        "\n",
        "        if mol_tipo == \"DNA\":\n",
        "          trad = self.traducao()\n",
        "          prots = []\n",
        "          proteinas = []\n",
        "          for aminos in trad:\n",
        "            if aminos == '_':\n",
        "              if prots:\n",
        "                for p in prots:\n",
        "                  proteinas.append(p)\n",
        "                prots = []\n",
        "            else:\n",
        "                  if aminos == 'M':\n",
        "                      prots.append(\"\")\n",
        "                  for x in range(len(prots)):\n",
        "                      prots[x] += aminos\n",
        "        \n",
        "        if mol_tipo == \"AMINO\":\n",
        "          aa = self.seq\n",
        "          prots = []\n",
        "          proteinas = []\n",
        "          for aminos in aa:\n",
        "              if aminos == '_':\n",
        "                  if prots:\n",
        "                      for p in prots:\n",
        "                          proteinas.append(p)\n",
        "                      prots = []\n",
        "              else:\n",
        "                  if aminos == 'M':\n",
        "                      prots.append(\"\")\n",
        "                  for x in range(len(prots)):\n",
        "                      prots[x] += aminos\n",
        "        \n",
        "        if mol_tipo == \"RNA\":\n",
        "          trad = self.traducao()\n",
        "          prots = []\n",
        "          proteinas = []\n",
        "          for aminos in trad:\n",
        "            if aminos == '_':\n",
        "              if prots:\n",
        "                for p in prots:\n",
        "                  proteinas.append(p)\n",
        "                prots = []\n",
        "            else:\n",
        "                  if aminos == 'M':\n",
        "                      prots.append(\"\")\n",
        "                  for x in range(len(prots)):\n",
        "                      prots[x] += aminos\n",
        "          \n",
        "        if proteinas == []:\n",
        "          raise Exception(\"Não foram encontradas sequências proteicas.\")\n",
        "        else:\n",
        "          return proteinas\n",
        "\n"
      ]
    },
    {
      "cell_type": "code",
      "source": [
        "my_seq = Seq('ATGGACTACATTTAGTAGAAAGC')\n",
        "print(my_seq.mol_type())\n",
        "print(my_seq.transcricao())\n",
        "print(my_seq.reverse_complement())\n",
        "print(my_seq.get_codons())\n",
        "print(my_seq.get_orfs())\n",
        "print(my_seq.traducao())\n",
        "print(my_seq.codon_to_amino())\n",
        "print(my_seq.proteins()) "
      ],
      "metadata": {
        "id": "_adhoirWwc8f",
        "colab": {
          "base_uri": "https://localhost:8080/"
        },
        "outputId": "836ee86b-6442-4ce2-f78a-14294ad60532"
      },
      "execution_count": null,
      "outputs": [
        {
          "output_type": "stream",
          "name": "stdout",
          "text": [
            "DNA\n",
            "CGAAAGAUGAUUUACAUCAGGUA\n",
            "GCTTTCTACTAAATGTAGTCCAT\n",
            "['ATG', 'GAC', 'TAC', 'ATT', 'TAG', 'TAG', 'AAA']\n",
            "['ATG', 'TGG', 'GGA', 'GAC', 'ACT', 'CTA', 'TAC', 'ACA', 'CAT', 'ATT', 'TTT', 'TTA', 'TAG', 'AGT', 'GTA', 'TAG', 'AGA', 'GAA', 'AAA', 'AAG', 'AGC'] ['GCT', 'CTT', 'TTT', 'TTC', 'TCT', 'CTA', 'TAC', 'ACT', 'CTA', 'TAA', 'AAA', 'AAT', 'ATG', 'TGT', 'GTA', 'TAG', 'AGT', 'GTC', 'TCC', 'CCA', 'CAT']\n",
            "MDYI__K\n",
            "['M', 'D', 'Y', 'I', '_', '_', 'K']\n",
            "['MDYI']\n"
          ]
        }
      ]
    },
    {
      "cell_type": "markdown",
      "source": [
        "### Testes Class Seq"
      ],
      "metadata": {
        "id": "Ck5Zipp4Z_sO"
      }
    },
    {
      "cell_type": "code",
      "source": [
        "import unittest "
      ],
      "metadata": {
        "id": "calfunDujGku"
      },
      "execution_count": null,
      "outputs": []
    },
    {
      "cell_type": "code",
      "source": [
        "\n",
        "class test_seq(unittest.TestCase):\n",
        "  def test_mol_type_DNA(self):\n",
        "    self.assertEqual(Seq(\"ACTG\").mol_type(),\"DNA\")\n",
        "\n",
        "  def test_mol_type_RNA(self):\n",
        "    self.assertEqual(Seq(\"ACUG\").mol_type(),\"RNA\")\n",
        "\n",
        "  def test_mol_type_AMINO(self):\n",
        "    self.assertEqual(Seq(\"ACTGHIYM\").mol_type(),\"AMINO\")\n",
        "    \n",
        "  def test_mol_type_AMINO_with_stop_aminoacid(self):\n",
        "    self.assertEqual(Seq(\"ACTGHIYM_\").mol_type(),\"AMINO\")\n",
        "\n",
        "  def test_mol_type_empty_string(self):\n",
        "    with self.assertRaises(Exception) as context:\n",
        "      Seq(\"\").mol_type()\n",
        "      self.assertTrue(\"Insira uma sequência.\" in context.exception)\n",
        "\n",
        "  def test_mol_type_ERRO(self):\n",
        "    with self.assertRaises(Exception) as context:\n",
        "      Seq(\"_nsjbwkj12232e\").mol_type()\n",
        "      self.assertTrue(\"Insira uma sequência válida.\" in context.exception)\n",
        "\n",
        "  def test_mol_type_DNA_minuscula(self):\n",
        "    self.assertEqual(Seq(\"actg\").mol_type(),\"DNA\") \n",
        "\n",
        "  def test_mol_type_DNA_min_maiuscula(self):\n",
        "    self.assertEqual(Seq(\"ACTGgctcGCTg\").mol_type(),\"DNA\")\n",
        "\n",
        "suite=unittest.TestLoader().loadTestsFromTestCase(test_seq)\n",
        "unittest.TextTestRunner( verbosity=3 ).run( suite )\n"
      ],
      "metadata": {
        "colab": {
          "base_uri": "https://localhost:8080/"
        },
        "id": "OfbAdbDfN2Dn",
        "outputId": "d48821d0-42ea-4e34-d1ae-bf891f04f92e"
      },
      "execution_count": null,
      "outputs": [
        {
          "output_type": "stream",
          "name": "stderr",
          "text": [
            "test_mol_type_AMINO (__main__.test_seq) ... ok\n",
            "test_mol_type_AMINO_with_stop_aminoacid (__main__.test_seq) ... ok\n",
            "test_mol_type_DNA (__main__.test_seq) ... ok\n",
            "test_mol_type_DNA_min_maiuscula (__main__.test_seq) ... ok\n",
            "test_mol_type_DNA_minuscula (__main__.test_seq) ... ok\n",
            "test_mol_type_ERRO (__main__.test_seq) ... ok\n",
            "test_mol_type_RNA (__main__.test_seq) ... ok\n",
            "test_mol_type_empty_string (__main__.test_seq) ... ok\n",
            "\n",
            "----------------------------------------------------------------------\n",
            "Ran 8 tests in 0.028s\n",
            "\n",
            "OK\n"
          ]
        },
        {
          "output_type": "execute_result",
          "data": {
            "text/plain": [
              "<unittest.runner.TextTestResult run=8 errors=0 failures=0>"
            ]
          },
          "metadata": {},
          "execution_count": 26
        }
      ]
    },
    {
      "cell_type": "code",
      "source": [
        "class test_reverse_complement(unittest.TestCase):\n",
        "\n",
        "  def test_DNA_seq(self):\n",
        "    self.assertEqual(Seq(\"ACTG\").reverse_complement(),\"CAGT\")\n",
        "\n",
        "  def test_RNA_seq(self):\n",
        "    self.assertEqual(Seq(\"ACGU\").reverse_complement(), None )\n",
        "\n",
        "  def test_AMINO_seq(self):\n",
        "    self.assertEqual(Seq(\"ACTGHIYM\").reverse_complement(), None)\n",
        "\n",
        "\n",
        "suite=unittest.TestLoader().loadTestsFromTestCase(test_reverse_complement)\n",
        "unittest.TextTestRunner( verbosity=3 ).run( suite )\n"
      ],
      "metadata": {
        "colab": {
          "base_uri": "https://localhost:8080/"
        },
        "id": "eUEzAr_Tqo8n",
        "outputId": "d28e8d06-4ce7-47c0-fae5-4f310ac941ca"
      },
      "execution_count": null,
      "outputs": [
        {
          "output_type": "stream",
          "name": "stderr",
          "text": [
            "test_AMINO_seq (__main__.test_reverse_complement) ... ok\n",
            "test_DNA_seq (__main__.test_reverse_complement) ... ok\n",
            "test_RNA_seq (__main__.test_reverse_complement) ... ok\n",
            "\n",
            "----------------------------------------------------------------------\n",
            "Ran 3 tests in 0.010s\n",
            "\n",
            "OK\n"
          ]
        },
        {
          "output_type": "execute_result",
          "data": {
            "text/plain": [
              "<unittest.runner.TextTestResult run=3 errors=0 failures=0>"
            ]
          },
          "metadata": {},
          "execution_count": 27
        }
      ]
    },
    {
      "cell_type": "code",
      "source": [
        "class test_transcricao(unittest.TestCase):\n",
        "\n",
        "  def test_DNA_seq(self):\n",
        "    self.assertEqual(Seq(\"ACTG\").transcricao(),\"GUCA\")\n",
        "\n",
        "  def test_RNA_seq(self):\n",
        "    self.assertEqual(Seq(\"ACGU\").transcricao(), None)\n",
        "\n",
        "  def test_AMINO_seq(self):\n",
        "    self.assertEqual(Seq(\"ACTGHIYM\").transcricao(), None)\n",
        "\n",
        "\n",
        "suite=unittest.TestLoader().loadTestsFromTestCase(test_transcricao)\n",
        "unittest.TextTestRunner( verbosity=3 ).run( suite )\n"
      ],
      "metadata": {
        "colab": {
          "base_uri": "https://localhost:8080/"
        },
        "id": "COpdHQK0iIbY",
        "outputId": "bc61073b-8c08-4c38-9a11-f075b56a70c5"
      },
      "execution_count": null,
      "outputs": [
        {
          "output_type": "stream",
          "name": "stderr",
          "text": [
            "test_AMINO_seq (__main__.test_transcricao) ... ok\n",
            "test_DNA_seq (__main__.test_transcricao) ... ok\n",
            "test_RNA_seq (__main__.test_transcricao) ... ok\n",
            "\n",
            "----------------------------------------------------------------------\n",
            "Ran 3 tests in 0.016s\n",
            "\n",
            "OK\n"
          ]
        },
        {
          "output_type": "execute_result",
          "data": {
            "text/plain": [
              "<unittest.runner.TextTestResult run=3 errors=0 failures=0>"
            ]
          },
          "metadata": {},
          "execution_count": 28
        }
      ]
    },
    {
      "cell_type": "code",
      "source": [
        "class test_get_codons(unittest.TestCase):\n",
        "\n",
        "  def test_DNA_seq(self):\n",
        "    self.assertEqual(Seq(\"ACTG\").get_codons(),[\"ACT\"])\n",
        "\n",
        "  def test_RNA_seq(self):\n",
        "    self.assertEqual(Seq(\"ACGU\").get_codons(), [\"ACG\"])\n",
        "\n",
        "  def test_AMINO_seq(self):\n",
        "    self.assertEqual(Seq(\"ACTGHIYM\").get_codons(), None)\n",
        "\n",
        "  def test_bigger_DNA_seq(self):\n",
        "    self.assertEqual(Seq(\"ATGCTAGCTAGCTAGCTT\").get_codons(), [\"ATG\",\"CTA\",\"GCT\",\"AGC\",\"TAG\",\"CTT\"])\n",
        "\n",
        "  def test_bigger_one_off_DNA_seq(self):\n",
        "    self.assertEqual(Seq(\"ATGCTAGCTAGCTAGCTTT\").get_codons(), [\"ATG\",\"CTA\",\"GCT\",\"AGC\",\"TAG\",\"CTT\"])\n",
        "\n",
        "  def test_bigger_RNA_seq(self):\n",
        "    self.assertEqual(Seq(\"AUGCUAGCUAGCUAGCUU\").get_codons(), [\"AUG\",\"CUA\",\"GCU\",\"AGC\",\"UAG\",\"CUU\"])\n",
        "\n",
        "  def test_bigger_one_off_RNA_seq(self):\n",
        "    self.assertEqual(Seq(\"AUGCUAGCUAGCUAGCUUU\").get_codons(), [\"AUG\",\"CUA\",\"GCU\",\"AGC\",\"UAG\",\"CUU\"])\n",
        "\n",
        "suite=unittest.TestLoader().loadTestsFromTestCase(test_get_codons)\n",
        "unittest.TextTestRunner( verbosity=3 ).run( suite )"
      ],
      "metadata": {
        "colab": {
          "base_uri": "https://localhost:8080/"
        },
        "id": "I2D9fdUYZLOx",
        "outputId": "1d548dbe-5141-4134-c792-2d34be2d7e42"
      },
      "execution_count": null,
      "outputs": [
        {
          "output_type": "stream",
          "name": "stderr",
          "text": [
            "test_AMINO_seq (__main__.test_get_codons) ... ok\n",
            "test_DNA_seq (__main__.test_get_codons) ... ok\n",
            "test_RNA_seq (__main__.test_get_codons) ... ok\n",
            "test_bigger_DNA_seq (__main__.test_get_codons) ... ok\n",
            "test_bigger_RNA_seq (__main__.test_get_codons) ... ok\n",
            "test_bigger_one_off_DNA_seq (__main__.test_get_codons) ... ok\n",
            "test_bigger_one_off_RNA_seq (__main__.test_get_codons) ... ok\n",
            "\n",
            "----------------------------------------------------------------------\n",
            "Ran 7 tests in 0.012s\n",
            "\n",
            "OK\n"
          ]
        },
        {
          "output_type": "execute_result",
          "data": {
            "text/plain": [
              "<unittest.runner.TextTestResult run=7 errors=0 failures=0>"
            ]
          },
          "metadata": {},
          "execution_count": 29
        }
      ]
    },
    {
      "cell_type": "code",
      "source": [
        "class test_get_orfs(unittest.TestCase):\n",
        "\n",
        "  def test_DNA_seq(self):\n",
        "    self.assertEqual(Seq(\"ACTG\").get_orfs(),\"['ACT', 'CTG'] ['CAG', 'AGT']\")\n",
        "\n",
        "  def test_RNA_seq(self):\n",
        "    self.assertEqual(Seq(\"ACGU\").get_orfs(), None)\n",
        "\n",
        "  def test_AMINO_seq(self):\n",
        "    self.assertEqual(Seq(\"ACTGHIYM\").get_orfs(), None)\n",
        "\n",
        "\n",
        "suite=unittest.TestLoader().loadTestsFromTestCase(test_get_orfs)\n",
        "unittest.TextTestRunner( verbosity=3 ).run( suite )"
      ],
      "metadata": {
        "colab": {
          "base_uri": "https://localhost:8080/"
        },
        "id": "4Nvoi7CsYQ3i",
        "outputId": "696832c8-2ac1-4af9-d157-30ffb6e0a964"
      },
      "execution_count": null,
      "outputs": [
        {
          "output_type": "stream",
          "name": "stderr",
          "text": [
            "test_AMINO_seq (__main__.test_get_orfs) ... ok\n",
            "test_DNA_seq (__main__.test_get_orfs) ... ok\n",
            "test_RNA_seq (__main__.test_get_orfs) ... ok\n",
            "\n",
            "----------------------------------------------------------------------\n",
            "Ran 3 tests in 0.011s\n",
            "\n",
            "OK\n"
          ]
        },
        {
          "output_type": "execute_result",
          "data": {
            "text/plain": [
              "<unittest.runner.TextTestResult run=3 errors=0 failures=0>"
            ]
          },
          "metadata": {},
          "execution_count": 30
        }
      ]
    },
    {
      "cell_type": "code",
      "source": [
        "class test_codon_to_amino(unittest.TestCase):\n",
        "\n",
        "  def test_DNA_seq(self):\n",
        "    self.assertEqual(Seq(\"ACTG\").codon_to_amino(),[\"T\"])\n",
        "\n",
        "  def test_RNA_seq(self):\n",
        "    self.assertEqual(Seq(\"ACGU\").codon_to_amino(), [\"T\"])\n",
        "\n",
        "  def test_AMINO_seq(self):\n",
        "    self.assertEqual(Seq(\"ACTGHIYM\").codon_to_amino(), None)\n",
        "\n",
        "  def test_bigger_DNA_seq(self):\n",
        "    self.assertEqual(Seq(\"ATGCTAGCTAGCTAGCTT\").codon_to_amino(), [\"M\",\"L\",\"A\",\"S\",\"_\",\"L\"])\n",
        "\n",
        "  def test_bigger_one_off_DNA_seq(self):\n",
        "    self.assertEqual(Seq(\"ATGCTAGCTAGCTAGCTTT\").codon_to_amino(), [\"M\",\"L\",\"A\",\"S\",\"_\",\"L\"])\n",
        "\n",
        "  def test_bigger_RNA_seq(self):\n",
        "    self.assertEqual(Seq(\"AUGCUAGCUAGCUAGCUU\").codon_to_amino(), [\"M\",\"L\",\"A\",\"S\",\"_\",\"L\"])\n",
        "\n",
        "  def test_bigger_one_off_RNA_seq(self):\n",
        "    self.assertEqual(Seq(\"AUGCUAGCUAGCUAGCUUU\").codon_to_amino(), [\"M\",\"L\",\"A\",\"S\",\"_\",\"L\"])\n",
        "\n",
        "suite=unittest.TestLoader().loadTestsFromTestCase(test_codon_to_amino)\n",
        "unittest.TextTestRunner( verbosity=3 ).run( suite )"
      ],
      "metadata": {
        "colab": {
          "base_uri": "https://localhost:8080/"
        },
        "id": "32K4PkYdvgZc",
        "outputId": "a07229f1-b672-4b72-e718-cc98a28fea04"
      },
      "execution_count": null,
      "outputs": [
        {
          "output_type": "stream",
          "name": "stderr",
          "text": [
            "test_AMINO_seq (__main__.test_codon_to_amino) ... ok\n",
            "test_DNA_seq (__main__.test_codon_to_amino) ... ok\n",
            "test_RNA_seq (__main__.test_codon_to_amino) ... ok\n",
            "test_bigger_DNA_seq (__main__.test_codon_to_amino) ... ok\n",
            "test_bigger_RNA_seq (__main__.test_codon_to_amino) ... ok\n",
            "test_bigger_one_off_DNA_seq (__main__.test_codon_to_amino) ... ok\n",
            "test_bigger_one_off_RNA_seq (__main__.test_codon_to_amino) ... ok\n",
            "\n",
            "----------------------------------------------------------------------\n",
            "Ran 7 tests in 0.020s\n",
            "\n",
            "OK\n"
          ]
        },
        {
          "output_type": "execute_result",
          "data": {
            "text/plain": [
              "<unittest.runner.TextTestResult run=7 errors=0 failures=0>"
            ]
          },
          "metadata": {},
          "execution_count": 31
        }
      ]
    },
    {
      "cell_type": "code",
      "source": [
        "class test_traducao(unittest.TestCase):\n",
        "\n",
        "  def test_DNA_seq(self):\n",
        "    self.assertEqual(Seq(\"ACTG\").traducao(),\"T\")\n",
        "\n",
        "  def test_RNA_seq(self):\n",
        "    self.assertEqual(Seq(\"ACGU\").traducao(), \"T\")\n",
        "\n",
        "  def test_AMINO_seq(self):\n",
        "    self.assertEqual(Seq(\"ACTGHIYM\").traducao(), None)\n",
        "\n",
        "  def test_bigger_DNA_seq(self):\n",
        "    self.assertEqual(Seq(\"ATGCTAGCTAGCTAGCTT\").traducao(), \"MLAS_L\")\n",
        "\n",
        "  def test_bigger_one_off_DNA_seq(self):\n",
        "    self.assertEqual(Seq(\"ATGCTAGCTAGCTAGCTTT\").traducao(), \"MLAS_L\")\n",
        "\n",
        "  def test_bigger_RNA_seq(self):\n",
        "    self.assertEqual(Seq(\"AUGCUAGCUAGCUAGCUU\").traducao(), \"MLAS_L\")\n",
        "\n",
        "  def test_bigger_one_off_RNA_seq(self):\n",
        "    self.assertEqual(Seq(\"AUGCUAGCUAGCUAGCUUU\").traducao(), \"MLAS_L\")\n",
        "\n",
        "\n",
        "suite=unittest.TestLoader().loadTestsFromTestCase(test_traducao)\n",
        "unittest.TextTestRunner( verbosity=3 ).run( suite )"
      ],
      "metadata": {
        "colab": {
          "base_uri": "https://localhost:8080/"
        },
        "id": "coGyMOKOdaW-",
        "outputId": "144c5181-4c88-40f9-b039-bec9bdc9d42c"
      },
      "execution_count": null,
      "outputs": [
        {
          "output_type": "stream",
          "name": "stderr",
          "text": [
            "test_AMINO_seq (__main__.test_traducao) ... ok\n",
            "test_DNA_seq (__main__.test_traducao) ... ok\n",
            "test_RNA_seq (__main__.test_traducao) ... ok\n",
            "test_bigger_DNA_seq (__main__.test_traducao) ... ok\n",
            "test_bigger_RNA_seq (__main__.test_traducao) ... ok\n",
            "test_bigger_one_off_DNA_seq (__main__.test_traducao) ... ok\n",
            "test_bigger_one_off_RNA_seq (__main__.test_traducao) ... ok\n",
            "\n",
            "----------------------------------------------------------------------\n",
            "Ran 7 tests in 0.010s\n",
            "\n",
            "OK\n"
          ]
        },
        {
          "output_type": "execute_result",
          "data": {
            "text/plain": [
              "<unittest.runner.TextTestResult run=7 errors=0 failures=0>"
            ]
          },
          "metadata": {},
          "execution_count": 32
        }
      ]
    },
    {
      "cell_type": "code",
      "source": [
        "class test_proteins(unittest.TestCase):\n",
        "\n",
        "  def test_AMINO_seq_without_codon_start_or_stop(self):\n",
        "    with self.assertRaises(Exception) as context:\n",
        "      Seq(\"ACTGHIYM\").proteins()\n",
        "      self.assertTrue(\"Não foram encontradas sequências proteicas.\" in context.exception)\n",
        "  \n",
        "  def test_AMINO_seq(self):\n",
        "    self.assertEqual(Seq(\"ACTGHIYMHAC_\").proteins(), [\"MHAC\"])\n",
        "\n",
        "  def test_DNA_seq(self):\n",
        "    self.assertEqual(Seq(\"ATGCTAGCTAGCTAGCTT\").proteins(), [\"MLAS\"])\n",
        "\n",
        "  def test_one_off_DNA_seq(self):\n",
        "    self.assertEqual(Seq(\"ATGCTAGCTAGCTAGCTTT\").proteins(), [\"MLAS\"])\n",
        "\n",
        "  def test_RNA_seq(self):\n",
        "    self.assertEqual(Seq(\"AUGCUAGCUAGCUAGCUU\").proteins(), [\"MLAS\"])\n",
        "\n",
        "  def test_one_off_RNA_seq(self):\n",
        "    self.assertEqual(Seq(\"AUGCUAGCUAGCUAGCUUU\").proteins(), [\"MLAS\"])\n",
        "\n",
        "  def test_without_codon_start_methionine(self):\n",
        "    with self.assertRaises(Exception) as context:\n",
        "      Seq(\"CTAGCATGCTAGCTT\").proteins()\n",
        "      self.assertTrue(\"Não foram encontradas sequências proteicas.\" in context.exception)\n",
        "\n",
        "  def test_without_codon_stop(self):\n",
        "    with self.assertRaises(Exception) as context:\n",
        "      Seq(\"ATGCTAGCATGCCTT\").proteins()\n",
        "      self.assertTrue(\"Não foram encontradas sequências proteicas.\" in context.exception)\n",
        "\n",
        "  def test_without_codon_start_or_stop(self):\n",
        "    with self.assertRaises(Exception) as context:\n",
        "      Seq(\"ATGCTAGCATGCCTT\").proteins()\n",
        "      self.assertTrue(\"Não foram encontradas sequências proteicas.\" in context.exception)\n",
        "\n",
        "suite=unittest.TestLoader().loadTestsFromTestCase(test_proteins)\n",
        "unittest.TextTestRunner( verbosity=3 ).run( suite )"
      ],
      "metadata": {
        "colab": {
          "base_uri": "https://localhost:8080/"
        },
        "id": "47yg-FUCbC4u",
        "outputId": "a2eaa082-4a1e-44cb-92e3-b8bc74a052e7"
      },
      "execution_count": null,
      "outputs": [
        {
          "output_type": "stream",
          "name": "stderr",
          "text": [
            "test_AMINO_seq (__main__.test_proteins) ... ok\n",
            "test_AMINO_seq_without_codon_start_or_stop (__main__.test_proteins) ... ok\n",
            "test_DNA_seq (__main__.test_proteins) ... ok\n",
            "test_RNA_seq (__main__.test_proteins) ... ok\n",
            "test_one_off_DNA_seq (__main__.test_proteins) ... ok\n",
            "test_one_off_RNA_seq (__main__.test_proteins) ... ok\n",
            "test_without_codon_start_methionine (__main__.test_proteins) ... ok\n",
            "test_without_codon_start_or_stop (__main__.test_proteins) ... ok\n",
            "test_without_codon_stop (__main__.test_proteins) ... ok\n",
            "\n",
            "----------------------------------------------------------------------\n",
            "Ran 9 tests in 0.026s\n",
            "\n",
            "OK\n"
          ]
        },
        {
          "output_type": "execute_result",
          "data": {
            "text/plain": [
              "<unittest.runner.TextTestResult run=9 errors=0 failures=0>"
            ]
          },
          "metadata": {},
          "execution_count": 33
        }
      ]
    },
    {
      "cell_type": "markdown",
      "source": [
        "### Documentação Class Seq"
      ],
      "metadata": {
        "id": "bXVIUmUBqJqi"
      }
    },
    {
      "cell_type": "code",
      "source": [
        "print(Seq.__doc__)"
      ],
      "metadata": {
        "colab": {
          "base_uri": "https://localhost:8080/"
        },
        "id": "Vk2wkpXCqPnM",
        "outputId": "442bb9ee-ec19-4b08-9177-4e30eb4622ee"
      },
      "execution_count": null,
      "outputs": [
        {
          "output_type": "stream",
          "name": "stdout",
          "text": [
            "\n",
            "    Implementação de algoritmos de manipulação de sequências de DNA: Transcrição, Tradução, ORFS, Extração de todas as potenciais proteínas\n",
            "\n",
            "      Parâmetros:\n",
            "      ----------\n",
            "           seq : str\n",
            "               sequência de DNA a manipular\n",
            "      \n",
            "      Métodos:\n",
            "      ----------\n",
            "            mol_type(self) -> str:\n",
            "                Função que identifica que tipo de molécula está presente, de acordo com a combinação de letras que apresenta\n",
            "\n",
            "                Returns:\n",
            "                  String que identifica que tipo de molécula está presente: DNA, RNA ou AMINO\n",
            "\n",
            "\n",
            "            reverse_complement(self) -> str:\n",
            "                Faz o complemento inverso da sequência de DNA, substituindo \"A\" por \"T\", \"T\" por \"A\", \"C\" por \"G\" e \"G\" por \"C\", e inverte a ordem da string [::-1]\n",
            "\n",
            "                Returns:\n",
            "                  String com o complemento inverso da sequência de DNA, respeitando a direção 5'-3'\n",
            "\n",
            "\n",
            "            transcricao(self) -> str:\n",
            "                Realiza a transcrição da sequência, substituindo 'T' por 'U'\n",
            "\n",
            "                Returns:\n",
            "                  String com a sequência de DNA transcrita para RNA\n",
            "\n",
            "\n",
            "            get_codons(self) -> list:\n",
            "                Recebe uma sequência de DNA ou RNA e devolve uma lista dos respetivos codões.\n",
            "\n",
            "                Returns:\n",
            "                  Lista com os codões respetivos da sequência de DNA ou RNA dada\n",
            "            \n",
            "\n",
            "            get_orfs(self) -> list:\n",
            "                Função que obtém todas as Open Reading Frames das duas cadeias de DNA\n",
            "\n",
            "                Returns:\n",
            "                  Lista com as ORFs encontradas em ambas as cadeias de DNA\n",
            "            \n",
            "\n",
            "            codon_to_amino(self) -> list:\n",
            "                Transforma os codões de DNA ou RNA nos respetivos aminoácidos, de acordo com o código genético\n",
            "\n",
            "                Returns:\n",
            "                  Lista com os aminoácidos, que foram convertidos a partir dos codões obtidos anteriormente, respeitando o código genético\n",
            "\n",
            "\n",
            "            traducao(self, firstpos = 0) -> str:\n",
            "                Tradução de uma sequência de DNA para uma sequência de proteínas\n",
            "                Variáveis:\n",
            "                  firstpos : int, opcional\n",
            "                    O argumento firstpos recebe o valor zero por default, se não for passado outro valor.\n",
            "                Returns:\n",
            "                  Retorna a tradução de uma sequência de DNA para uma sequência de proteínas\n",
            "            \n",
            "            \n",
            "            proteins(self) -> list:\n",
            "                Recebe uma sequência de DNA, RNA ou AMINO e devolve uma lista de possíveis proteínas, sabendo que começam com o aminoácido\n",
            "                M (metionina) e termina em \"_\" (stop)\n",
            "\n",
            "                Returns:\n",
            "                  Lista com as proteínas possíveis\n",
            "   \n",
            "    \n"
          ]
        }
      ]
    },
    {
      "cell_type": "markdown",
      "source": [
        "### Considerações Class Seq\n",
        "Para a class Seq temos como objetivo manipular a sequência de DNA dada, realizando diferentes processos, como a tradução, transcrição, obtenção de codoões e ORFs. \n",
        "\n",
        "Inicialmente, testamos qual é o tipo de molécula inserida, sendo que apenas são aceites sequências que respeitem as condições de serem DNA ou RNA ou AMINO. Quaisqueres sequências inválidas são consideradas ERRO.\n",
        "\n",
        "Depois testamos os métodos reverse_complement e transcrição, que apenas são realizados quando a sequência é de DNA, sendo quaisquer outro tipo considerado None.\n",
        "\n",
        "De seguida, obtemos os codões, que podem ser a partir de sequências de DNA ou RNA, sendo dados dois gencodes que facilitam esta pesquisa. Os testes confirmam que os codões são sempre agrupados 3 a 3, mesmo que a sequência seja um múltiplo diferente de 3.\n",
        "\n",
        "\n",
        "Para testar as proteínas, verificamos que estas tinham que ser iniciadas quando encontrasse a letra \"M\" (metionina) e terminasse em \"_\" (stop). Caso não fosse encontrado um ou ambos os casos, teríamos um erro de que não foram encontradas nenhuma proteína.\n",
        "\n",
        "_______________________________________________________________________\n",
        "Nós decidimos testar situações como 'empty strings', 'Erros' ou seja strings que não são consideradas nenhum tipo de sequência, sequências em letras minusculas e sequencias com letras minusculas e maiusculas. Isto apenas para primeira função uma vez que estas situações servem mais para testar o construtor, dado que as condições que estipulamos estão nele definidos."
      ],
      "metadata": {
        "id": "qIX-ifDjmLnk"
      }
    },
    {
      "cell_type": "markdown",
      "source": [
        "## Class NW e SW"
      ],
      "metadata": {
        "id": "Sohj_13ZaFNG"
      }
    },
    {
      "cell_type": "markdown",
      "source": [
        "ALINHAMENTOS LOCAIS E GLOBAIS"
      ],
      "metadata": {
        "id": "bMTF05BbPCPc"
      }
    },
    {
      "cell_type": "code",
      "source": [
        "import io\n",
        "\n",
        "class Mat:\n",
        "    \"\"\"\n",
        "    Implementação de uma matriz\n",
        "\n",
        "      Parâmetros:\n",
        "      ----------\n",
        "          rows : int\n",
        "              linhas da matriz\n",
        "          \n",
        "          cols: int\n",
        "              colunas da matriz\n",
        "        \n",
        "      Métodos:\n",
        "      ----------\n",
        "          numRows(self) -> int: \n",
        "              Indica o número de linhas presentes na matriz\n",
        "\n",
        "              Returns:\n",
        "                Valor inteiro com o número de linhas da matriz\n",
        "\n",
        "\n",
        "          numCols (self) -> int: \n",
        "              Indica o número de colunas presentes na matriz\n",
        "              \n",
        "              Returns:\n",
        "                Valor inteiro com o número de linhas da matriz\n",
        "    \"\"\"\n",
        "    def __init__(self, rows: int, cols: int) -> None:\n",
        "        \"\"\"\n",
        "        Construtor com os atributos necessários para a class Mat\n",
        "        \"\"\"\n",
        "        self.mat = [[0 for c in range(cols)]\n",
        "                    for r in range(rows)]\n",
        "        \n",
        "    def numRows(self) -> int: \n",
        "      \"\"\"\n",
        "      Indica o número de linhas presentes na matriz\n",
        "\n",
        "      Returns:\n",
        "        Valor inteiro com o número de linhas da matriz\n",
        "      \"\"\"\n",
        "      return len(self.mat)\n",
        "\n",
        "    def numCols (self) -> int: \n",
        "      \"\"\"\n",
        "      Indica o número de colunas presentes na matriz\n",
        "\n",
        "      Returns:\n",
        "        Valor inteiro com o número de colunas da matriz\n",
        "      \"\"\"\n",
        "      return len(self.mat[0])\n",
        "\n",
        "    def __str__(self) -> str:\n",
        "      \"\"\"\n",
        "      Devolve a matriz como uma string\n",
        "      \"\"\"\n",
        "      return '\\n'.join(' '.join(str(val) for val in row)\n",
        "                        for row in self.mat)\n",
        "        \n",
        "    def __repr__(self) -> str:\n",
        "      \"\"\"\n",
        "      Retorna a representação 'printable' do objeto especificado como uma string\n",
        "      \"\"\"\n",
        "      return str(self)\n",
        "\n",
        "    def __getitem__ (self, n: int):\n",
        "      \"\"\"\n",
        "      Interface para a indexação []\n",
        "      \"\"\"\n",
        "      return self.mat[n]\n",
        "  \n",
        "class NW:\n",
        "  \"\"\"\n",
        "  Alinhamento global entre duas sequências (Needleman Wunsch)\n",
        "\n",
        "      Parâmetros:\n",
        "      ----------\n",
        "          s1 : str\n",
        "              sequência 1 a usar para realizar o alinhamento global\n",
        "          \n",
        "          s2 : str\n",
        "              sequência 2 a usar para realizar o alinhamento global\n",
        "          \n",
        "          g : int\n",
        "              valor de gap penalty\n",
        "              O argumento g recebe o valor -4 por default, se não for passado outro valor\n",
        "          \n",
        "          s_match : int\n",
        "              valor quando ocorre match de caracteres\n",
        "              O argumento s_match recebe o valor 3 por default, se não for passado outro valor\n",
        "\n",
        "          mismatch : int\n",
        "              valor quando ocorre mismatch de caracteres\n",
        "              O argumento mismatch recebe o valor -1 por default, se não for passado outro valor\n",
        "        \n",
        "      Métodos:\n",
        "      ----------\n",
        "          subst(self, x:str, y:str) -> int\n",
        "            Função da matriz de substituíção\n",
        "            Caracterização da matriz de substitíção:\n",
        "              caracteres iguais -> +3\n",
        "              caracteres diferentes -> -1\n",
        "\n",
        "            Returns:\n",
        "              Valor inteiro de match ou mismatch\n",
        "\n",
        "\n",
        "          rebuild(self) -> str:\n",
        "              Função de reconstrução do alinhamento, que começa no canto inferior direito, que toma o valor de melhor score\n",
        "\n",
        "              Returns:\n",
        "                String com o alinhamento global das duas sequências\n",
        "\n",
        "  \"\"\"\n",
        "  def __init__(self, s1: str, s2: str, g : int = -4, s_match: int = 3, mismatch: int = -1) -> None:\n",
        "    \"\"\"\n",
        "    Construtor com os atributos necessários para a class NW\n",
        "\n",
        "          s1 : str\n",
        "              sequência 1 a usar para realizar o alinhamento global\n",
        "          \n",
        "          s2 : str\n",
        "              sequência 2 a usar para realizar o alinhamento global\n",
        "          \n",
        "          g : int\n",
        "              valor de gap penalty\n",
        "              O argumento g recebe o valor -4 por default, se não for passado outro valor\n",
        "\n",
        "          s_match : int\n",
        "              valor quando ocorre match de caracteres\n",
        "              O argumento s_match recebe o valor 3 por default, se não for passado outro valor\n",
        "\n",
        "          mismatch : int\n",
        "              valor quando ocorre mismatch de caracteres\n",
        "              O argumento mismatch recebe o valor -1 por default, se não for passado outro valor\n",
        "    \"\"\"\n",
        "    self.s1 = s1.upper()\n",
        "    self.s2 = s2.upper()\n",
        "    self.mat = Mat(len(s1) + 1, len(s2) + 1)\n",
        "    self.tr  = Mat(len(s1) + 1, len(s2) + 1)\n",
        "\n",
        "    self.s_match = s_match\n",
        "    self.mismatch = mismatch\n",
        "\n",
        "    for x in str(self.s1):\n",
        "      if x not in \"ACTG-\":\n",
        "        raise ValueError(\"A primeira sequência deve ser uma sequência de DNA.\") \n",
        "\n",
        "    for y in str(self.s2):\n",
        "      if y not in \"ACTG-\":\n",
        "        raise ValueError(\"A segunda sequência deve ser uma sequência de DNA.\")\n",
        "\n",
        "\n",
        "    \n",
        "    for L in range(len(s1)):\n",
        "      self.mat[L + 1][0] = g * (L + 1)\n",
        "      self.tr[L + 1][0]  = 'C'\n",
        "\n",
        "    for C in range(len(s2)):\n",
        "      self.mat[0][C + 1] = g * (C + 1)\n",
        "      self.tr[0][C + 1]  = 'E'\n",
        "\n",
        "    for L, x1 in enumerate(s1):\n",
        "      for C, x2 in enumerate(s2):\n",
        "        possiveis = [\n",
        "            self.mat[L  ][C    ] + self.subst(x1, x2),   # Diagonal\n",
        "            self.mat[L+1][C    ] + g,               # Esquerda\n",
        "            self.mat[L  ][C + 1] + g,               # Cima\n",
        "        ]\n",
        "        dirs = \"DEC\"\n",
        "\n",
        "        self.mat[L + 1][C + 1] = max(possiveis)\n",
        "        self.tr[L + 1][C + 1] = dirs[possiveis.index(self.mat[L + 1][C + 1])]\n",
        "    \n",
        "  def subst(self, x:str, y:str) -> int:\n",
        "    \"\"\"\n",
        "    Função da matriz de substituíção\n",
        "\n",
        "    Caracterização da matriz de substitíção:\n",
        "      caracteres iguais -> +3\n",
        "      caracteres diferentes -> -1\n",
        "\n",
        "    Returns:\n",
        "      Valor inteiro de match ou mismatch\n",
        "    \"\"\"\n",
        "    return self.s_match if x == y else self.mismatch\n",
        "    \n",
        "  def rebuild(self) -> str:\n",
        "    \"\"\"\n",
        "    Função de reconstrução do alinhamento, que começa no canto inferior direito, que toma o valor de melhor score\n",
        "\n",
        "    Returns:\n",
        "      String com o alinhamento global das duas sequências\n",
        "    \"\"\"\n",
        "    L = len(self.s1)\n",
        "    C = len(self.s2)\n",
        "    S1 = \"\"\n",
        "    S2 = \"\"\n",
        "    \n",
        "    dirs = {\n",
        "        'D' : (-1, -1),\n",
        "        'E' : ( 0, -1),\n",
        "        'C' : (-1,  0)\n",
        "    }\n",
        "\n",
        "    while L > 0 or C > 0:\n",
        "      DL, DC = dirs[self.tr[L][C]]\n",
        "\n",
        "      if self.tr[L][C] == \"D\":\n",
        "        S1 = self.s1[L - 1] + S1\n",
        "        S2 = self.s2[C - 1] + S2\n",
        "      elif self.tr[L][C] == \"E\":\n",
        "        S1 = '-' + S1\n",
        "        S2 = self.s2[C - 1] + S2\n",
        "      else:\n",
        "        S1 = self.s1[L - 1] + S1\n",
        "        S2 = '-' + S2        \n",
        "\n",
        "      L += DL\n",
        "      C += DC\n",
        "\n",
        "    return S1, S2\n",
        "\n",
        "  def __repr__(self) -> str:\n",
        "    \"\"\"\n",
        "    Retorna a representação 'printable' do objeto especificado como uma string\n",
        "    \"\"\"\n",
        "    cols = \"-\" + self.s2\n",
        "    lins = \"-\" + self.s1\n",
        "    with io.StringIO(\"\") as S:\n",
        "      print(' ', *cols, sep = '   ', file = S)\n",
        "      for L, linha in zip(lins, self.mat):\n",
        "        print(L, *[f'{x:3d}' for x in linha], file = S)\n",
        "\n",
        "      print(file = S)\n",
        "\n",
        "      print(' ', *cols, file = S)\n",
        "      for L, linha in zip(lins, self.tr):\n",
        "        print(L, *linha, file = S)\n",
        "\n",
        "      return S.getvalue()\n",
        "    \n",
        "class SW(NW):\n",
        "  \"\"\"\n",
        "  Alinhamento local entre duas sequências (Smith-Waterman)\n",
        "\n",
        "      Parâmetros:\n",
        "      ----------\n",
        "        s1 : str\n",
        "            sequência 1 a usar para realizar o alinhamento local\n",
        "        \n",
        "        s2 : str\n",
        "            sequência 2 a usar para realizar o alinhamento local\n",
        "        \n",
        "        g : int\n",
        "            valor de gap penalty\n",
        "            O argumento g recebe o valor -4 por default, se não for passado outro valor\n",
        "        \n",
        "        s_match : int\n",
        "            valor quando ocorre match de caracteres\n",
        "            O argumento s_match recebe o valor 3 por default, se não for passado outro valor\n",
        "\n",
        "        mismatch : int\n",
        "            valor quando ocorre mismatch de caracteres\n",
        "            O argumento mismatch recebe o valor -1 por default, se não for passado outro valor\n",
        "        \n",
        "      Métodos:\n",
        "      ----------\n",
        "          Invoca funções da class NW\n",
        "  \"\"\"\n",
        "  def __init__(self, s1, s2, g = -4,s_match: int = 3, mismatch: int = -1)-> None:\n",
        "    \"\"\"\n",
        "    Construtor com os atributos necessários para a class SW\n",
        "        s1 : str\n",
        "            sequência 1 a usar para realizar o alinhamento local\n",
        "        \n",
        "        s2 : str\n",
        "            sequência 2 a usar para realizar o alinhamento local\n",
        "        \n",
        "        g : int\n",
        "            valor de gap penalty\n",
        "            O argumento g recebe o valor -4 por default, se não for passado outro valor\n",
        "\n",
        "        s_match : int\n",
        "            valor quando ocorre match de caracteres\n",
        "            O argumento s_match recebe o valor 3 por default, se não for passado outro valor\n",
        "\n",
        "        mismatch : int\n",
        "            valor quando ocorre mismatch de caracteres\n",
        "            O argumento mismatch recebe o valor -1 por default, se não for passado outro valor\n",
        "    \n",
        "    \"\"\"\n",
        "    self.s1 = s1.upper()\n",
        "    self.s2 = s2.upper()\n",
        "    self.mat = Mat(len(s1) + 1, len(s2) + 1)\n",
        "    self.tr  = Mat(len(s1) + 1, len(s2) + 1)\n",
        "    self.s_match=s_match\n",
        "    self.mismatch=mismatch\n",
        "\n",
        "    for L, x1 in enumerate(s1):\n",
        "      for C, x2 in enumerate(s2):\n",
        "        possiveis = [\n",
        "            self.mat[L  ][C    ] + self.subst(x1, x2),   # Diagonal\n",
        "            self.mat[L+1][C    ] + g,                   # Esquerda\n",
        "            self.mat[L  ][C + 1] + g,                   # Cima\n",
        "            0                                           # Zero\n",
        "        ]\n",
        "        dirs = \"DEC0\"\n",
        "\n",
        "        self.mat[L + 1][C + 1] = max(possiveis)\n",
        "        self.tr[L + 1][C + 1] = dirs[possiveis.index(self.mat[L + 1][C + 1])]"
      ],
      "metadata": {
        "id": "5jrTRn9D3wpq"
      },
      "execution_count": null,
      "outputs": []
    },
    {
      "cell_type": "code",
      "source": [
        "print(NW(\"ACGT\", \"TACCGT\"))\n",
        "print(*NW(\"ACGT\", \"TACCGT\").rebuild(), sep=\"\\n\")\n",
        "\n",
        "print(SW(\"ACGT\", \"TACCGT\"))"
      ],
      "metadata": {
        "colab": {
          "base_uri": "https://localhost:8080/"
        },
        "id": "BXcIBoVq6AJV",
        "outputId": "29ddd6c4-9eae-4b47-9946-5b6d6d98a142"
      },
      "execution_count": null,
      "outputs": [
        {
          "output_type": "stream",
          "name": "stdout",
          "text": [
            "    -   T   A   C   C   G   T\n",
            "-   0  -4  -8 -12 -16 -20 -24\n",
            "A  -4  -1  -1  -5  -9 -13 -17\n",
            "C  -8  -5  -2   2  -2  -6 -10\n",
            "G -12  -9  -6  -2   1   1  -3\n",
            "T -16  -9 -10  -6  -3   0   4\n",
            "\n",
            "  - T A C C G T\n",
            "- 0 E E E E E E\n",
            "A C D D E E E E\n",
            "C C D D D D E E\n",
            "G C D D C D D E\n",
            "T C D D C D D D\n",
            "\n",
            "-A-CGT\n",
            "TACCGT\n",
            "    -   T   A   C   C   G   T\n",
            "-   0   0   0   0   0   0   0\n",
            "A   0   0   3   0   0   0   0\n",
            "C   0   0   0   6   3   0   0\n",
            "G   0   0   0   2   5   6   2\n",
            "T   0   3   0   0   1   4   9\n",
            "\n",
            "  - T A C C G T\n",
            "- 0 0 0 0 0 0 0\n",
            "A 0 0 D 0 0 0 0\n",
            "C 0 0 0 D D 0 0\n",
            "G 0 0 0 C D D E\n",
            "T 0 D 0 0 D D D\n",
            "\n"
          ]
        }
      ]
    },
    {
      "cell_type": "markdown",
      "source": [
        "### Teste Classe NW"
      ],
      "metadata": {
        "id": "qNHIZENOML6m"
      }
    },
    {
      "cell_type": "code",
      "source": [
        "class test_NW(unittest.TestCase):\n",
        "\n",
        "  def test_1st_not_dna(self):\n",
        "    with self.assertRaises(ValueError) as context:\n",
        "      NW(\"ACHT\", \"TACCGT\")\n",
        "      self.assertTrue(\"A primeira sequência deve ser uma sequência de DNA.\" in context.exception)\n",
        "  \n",
        "  def test_2nd_not_dna(self):\n",
        "    with self.assertRaises(ValueError) as context:\n",
        "      NW(\"ACGT\", \"TACCGTH\")\n",
        "      self.assertTrue(\"A segunda sequência deve ser uma sequência de DNA.\" in context.exception)\n",
        "\n",
        "suite=unittest.TestLoader().loadTestsFromTestCase(test_NW)\n",
        "unittest.TextTestRunner( verbosity=3 ).run( suite )\n"
      ],
      "metadata": {
        "colab": {
          "base_uri": "https://localhost:8080/"
        },
        "id": "0KxRchymRXaN",
        "outputId": "c3f6d082-7b58-4b8e-9fd2-7da4c56d4aa0"
      },
      "execution_count": null,
      "outputs": [
        {
          "output_type": "stream",
          "name": "stderr",
          "text": [
            "test_1st_not_dna (__main__.test_NW) ... ok\n",
            "test_2nd_not_dna (__main__.test_NW) ... ok\n",
            "\n",
            "----------------------------------------------------------------------\n",
            "Ran 2 tests in 0.009s\n",
            "\n",
            "OK\n"
          ]
        },
        {
          "output_type": "execute_result",
          "data": {
            "text/plain": [
              "<unittest.runner.TextTestResult run=2 errors=0 failures=0>"
            ]
          },
          "metadata": {},
          "execution_count": 37
        }
      ]
    },
    {
      "cell_type": "code",
      "source": [
        "class test_NW_rebuild(unittest.TestCase):\n",
        "\n",
        "  def test_dna_sequences(self):\n",
        "    self.assertEqual(NW(\"ACGT\", \"TACCGT\").rebuild(),(\"-A-CGT\",\"TACCGT\"))\n",
        "  \n",
        "  \n",
        "suite=unittest.TestLoader().loadTestsFromTestCase(test_NW_rebuild)\n",
        "unittest.TextTestRunner( verbosity=3 ).run( suite )"
      ],
      "metadata": {
        "colab": {
          "base_uri": "https://localhost:8080/"
        },
        "id": "0sJN6OKZMK1x",
        "outputId": "3945e9a5-fa9a-49ba-bb76-3945a92bb2e2"
      },
      "execution_count": null,
      "outputs": [
        {
          "output_type": "stream",
          "name": "stderr",
          "text": [
            "test_dna_sequences (__main__.test_NW_rebuild) ... ok\n",
            "\n",
            "----------------------------------------------------------------------\n",
            "Ran 1 test in 0.007s\n",
            "\n",
            "OK\n"
          ]
        },
        {
          "output_type": "execute_result",
          "data": {
            "text/plain": [
              "<unittest.runner.TextTestResult run=1 errors=0 failures=0>"
            ]
          },
          "metadata": {},
          "execution_count": 38
        }
      ]
    },
    {
      "cell_type": "markdown",
      "source": [
        "### Documentação Class Mat, NW e SW"
      ],
      "metadata": {
        "id": "h-NX94hWqVrH"
      }
    },
    {
      "cell_type": "code",
      "source": [
        "print(Mat.__doc__)\n",
        "print(NW.__doc__)\n",
        "print(SW.__doc__)"
      ],
      "metadata": {
        "colab": {
          "base_uri": "https://localhost:8080/"
        },
        "id": "3qKHwS9ckJKM",
        "outputId": "6116735c-c578-430c-8e0d-56d8835e2a76"
      },
      "execution_count": null,
      "outputs": [
        {
          "output_type": "stream",
          "name": "stdout",
          "text": [
            "\n",
            "    Implementação de uma matriz\n",
            "\n",
            "      Parâmetros:\n",
            "      ----------\n",
            "          rows : int\n",
            "              linhas da matriz\n",
            "          \n",
            "          cols: int\n",
            "              colunas da matriz\n",
            "        \n",
            "      Métodos:\n",
            "      ----------\n",
            "          numRows(self) -> int: \n",
            "              Indica o número de linhas presentes na matriz\n",
            "\n",
            "              Returns:\n",
            "                Valor inteiro com o número de linhas da matriz\n",
            "\n",
            "\n",
            "          numCols (self) -> int: \n",
            "              Indica o número de colunas presentes na matriz\n",
            "              \n",
            "              Returns:\n",
            "                Valor inteiro com o número de linhas da matriz\n",
            "    \n",
            "\n",
            "  Alinhamento global entre duas sequências (Needleman Wunsch)\n",
            "\n",
            "      Parâmetros:\n",
            "      ----------\n",
            "          s1 : str\n",
            "              sequência 1 a usar para realizar o alinhamento global\n",
            "          \n",
            "          s2 : str\n",
            "              sequência 2 a usar para realizar o alinhamento global\n",
            "          \n",
            "          g : int\n",
            "              valor de gap penalty\n",
            "              O argumento g recebe o valor -4 por default, se não for passado outro valor\n",
            "          \n",
            "          s_match : int\n",
            "              valor quando ocorre match de caracteres\n",
            "              O argumento s_match recebe o valor 3 por default, se não for passado outro valor\n",
            "\n",
            "          mismatch : int\n",
            "              valor quando ocorre mismatch de caracteres\n",
            "              O argumento mismatch recebe o valor -1 por default, se não for passado outro valor\n",
            "        \n",
            "      Métodos:\n",
            "      ----------\n",
            "          subst(self, x:str, y:str) -> int\n",
            "            Função da matriz de substituíção\n",
            "            Caracterização da matriz de substitíção:\n",
            "              caracteres iguais -> +3\n",
            "              caracteres diferentes -> -1\n",
            "\n",
            "            Returns:\n",
            "              Valor inteiro de match ou mismatch\n",
            "\n",
            "\n",
            "          rebuild(self) -> str:\n",
            "              Função de reconstrução do alinhamento, que começa no canto inferior direito, que toma o valor de melhor score\n",
            "\n",
            "              Returns:\n",
            "                String com o alinhamento global das duas sequências\n",
            "\n",
            "  \n",
            "\n",
            "  Alinhamento local entre duas sequências (Smith-Waterman)\n",
            "\n",
            "      Parâmetros:\n",
            "      ----------\n",
            "        s1 : str\n",
            "            sequência 1 a usar para realizar o alinhamento local\n",
            "        \n",
            "        s2 : str\n",
            "            sequência 2 a usar para realizar o alinhamento local\n",
            "        \n",
            "        g : int\n",
            "            valor de gap penalty\n",
            "            O argumento g recebe o valor -4 por default, se não for passado outro valor\n",
            "        \n",
            "        s_match : int\n",
            "            valor quando ocorre match de caracteres\n",
            "            O argumento s_match recebe o valor 3 por default, se não for passado outro valor\n",
            "\n",
            "        mismatch : int\n",
            "            valor quando ocorre mismatch de caracteres\n",
            "            O argumento mismatch recebe o valor -1 por default, se não for passado outro valor\n",
            "        \n",
            "      Métodos:\n",
            "      ----------\n",
            "          Invoca funções da class NW\n",
            "  \n"
          ]
        }
      ]
    },
    {
      "cell_type": "markdown",
      "source": [
        "### Considerações Class NW e SW"
      ],
      "metadata": {
        "id": "lVYZnToBswgj"
      }
    },
    {
      "cell_type": "markdown",
      "source": [
        "Nesta classe, procuramos implementar as matrizes Needleman-Wunsch e Smith-Waterman para alinhamentos globais e locais, respetivamente. \n",
        "\n",
        "Foram realizados testes de modo a reconhecer que as sequências inseridas são apenas de DNA."
      ],
      "metadata": {
        "id": "V5o4zj-5s3DZ"
      }
    },
    {
      "cell_type": "markdown",
      "source": [
        "## Class NWblosum"
      ],
      "metadata": {
        "id": "Kl7USjoKBigD"
      }
    },
    {
      "cell_type": "code",
      "source": [
        "def blosum():\n",
        "  \"\"\"\n",
        "  Função que vai buscar a blosum62 e retorna um dicionário com os valores de score\n",
        "  \"\"\"\n",
        "  mat = \"\"\"\n",
        "       A  R  N  D  C  Q  E  G  H  I  L  K  M  F  P  S  T  W  Y  V  B  Z  X  *\n",
        "    A  4 -1 -2 -2  0 -1 -1  0 -2 -1 -1 -1 -1 -2 -1  1  0 -3 -2  0 -2 -1  0 -4 \n",
        "    R -1  5  0 -2 -3  1  0 -2  0 -3 -2  2 -1 -3 -2 -1 -1 -3 -2 -3 -1  0 -1 -4 \n",
        "    N -2  0  6  1 -3  0  0  0  1 -3 -3  0 -2 -3 -2  1  0 -4 -2 -3  3  0 -1 -4 \n",
        "    D -2 -2  1  6 -3  0  2 -1 -1 -3 -4 -1 -3 -3 -1  0 -1 -4 -3 -3  4  1 -1 -4 \n",
        "    C  0 -3 -3 -3  9 -3 -4 -3 -3 -1 -1 -3 -1 -2 -3 -1 -1 -2 -2 -1 -3 -3 -2 -4 \n",
        "    Q -1  1  0  0 -3  5  2 -2  0 -3 -2  1  0 -3 -1  0 -1 -2 -1 -2  0  3 -1 -4 \n",
        "    E -1  0  0  2 -4  2  5 -2  0 -3 -3  1 -2 -3 -1  0 -1 -3 -2 -2  1  4 -1 -4 \n",
        "    G  0 -2  0 -1 -3 -2 -2  6 -2 -4 -4 -2 -3 -3 -2  0 -2 -2 -3 -3 -1 -2 -1 -4 \n",
        "    H -2  0  1 -1 -3  0  0 -2  8 -3 -3 -1 -2 -1 -2 -1 -2 -2  2 -3  0  0 -1 -4 \n",
        "    I -1 -3 -3 -3 -1 -3 -3 -4 -3  4  2 -3  1  0 -3 -2 -1 -3 -1  3 -3 -3 -1 -4 \n",
        "    L -1 -2 -3 -4 -1 -2 -3 -4 -3  2  4 -2  2  0 -3 -2 -1 -2 -1  1 -4 -3 -1 -4 \n",
        "    K -1  2  0 -1 -3  1  1 -2 -1 -3 -2  5 -1 -3 -1  0 -1 -3 -2 -2  0  1 -1 -4 \n",
        "    M -1 -1 -2 -3 -1  0 -2 -3 -2  1  2 -1  5  0 -2 -1 -1 -1 -1  1 -3 -1 -1 -4 \n",
        "    F -2 -3 -3 -3 -2 -3 -3 -3 -1  0  0 -3  0  6 -4 -2 -2  1  3 -1 -3 -3 -1 -4 \n",
        "    P -1 -2 -2 -1 -3 -1 -1 -2 -2 -3 -3 -1 -2 -4  7 -1 -1 -4 -3 -2 -2 -1 -2 -4 \n",
        "    S  1 -1  1  0 -1  0  0  0 -1 -2 -2  0 -1 -2 -1  4  1 -3 -2 -2  0  0  0 -4 \n",
        "    T  0 -1  0 -1 -1 -1 -1 -2 -2 -1 -1 -1 -1 -2 -1  1  5 -2 -2  0 -1 -1  0 -4 \n",
        "    W -3 -3 -4 -4 -2 -2 -3 -2 -2 -3 -2 -3 -1  1 -4 -3 -2 11  2 -3 -4 -3 -2 -4 \n",
        "    Y -2 -2 -2 -3 -2 -1 -2 -3  2 -1 -1 -2 -1  3 -3 -2 -2  2  7 -1 -3 -2 -1 -4 \n",
        "    V  0 -3 -3 -3 -1 -2 -2 -3 -3  3  1 -2  1 -1 -2 -2  0 -3 -1  4 -3 -2 -1 -4 \n",
        "    B -2 -1  3  4 -3  0  1 -1  0 -3 -4  0 -3 -3 -2  0 -1 -4 -3 -3  4  1 -1 -4 \n",
        "    Z -1  0  0  1 -3  3  4 -2  0 -3 -3  1 -1 -3 -1  0 -1 -3 -2 -2  1  4 -1 -4 \n",
        "    X  0 -1 -1 -1 -2 -1 -1 -1 -1 -1 -1 -1 -1 -1 -2  0  0 -2 -1 -1 -1 -1 -1 -4 \n",
        "    * -4 -4 -4 -4 -4 -4 -4 -4 -4 -4 -4 -4 -4 -4 -4 -4 -4 -4 -4 -4 -4 -4 -4  1 \"\"\"\n",
        "\n",
        "  D = {}\n",
        "\n",
        "  fields, *M = [L.strip().split() for L in mat.splitlines() if L.strip() != '']\n",
        "\n",
        "  for L in M:\n",
        "      k, *L = L\n",
        "      for f, v in zip(fields, L):\n",
        "          if f not in D:\n",
        "              D[f] = {}\n",
        "          D[f][k] = int(v)\n",
        "  return D\n",
        "\n",
        "sm = blosum()\n",
        "\n",
        "def score_pos(c1: str, c2: str, sm: str, gap_penalty: int):\n",
        "  if c1 == '-' or c2 == '-':\n",
        "      return gap_penalty\n",
        "  else:\n",
        "      return sm[c1][c2]\n",
        "\n",
        "def score_align(seq1, seq2, sm, g):\n",
        "  res = 0\n",
        "  for i in range(len(seq1)):\n",
        "      res += score_pos(seq1[i], seq2[i], sm, g)\n",
        "  return res"
      ],
      "metadata": {
        "id": "XaZUrQXmBvTK"
      },
      "execution_count": null,
      "outputs": []
    },
    {
      "cell_type": "code",
      "source": [
        "class NWblosum:\n",
        "  \"\"\"\n",
        "  Alinhamento global entre duas sequências, utilizando como base a matriz blosum62\n",
        "    \n",
        "      Parâmetros:\n",
        "      ----------\n",
        "          s1 : str\n",
        "              sequência 1 a usar para realizar o alinhamento global\n",
        "          \n",
        "          s2 : str\n",
        "              sequência 1 a usar para realizar o alinhamento global\n",
        "          \n",
        "          sm : str\n",
        "              scoring matrix\n",
        "          \n",
        "          g : int\n",
        "              valor de gap penalty, que é escolhido pelo usuário\n",
        "        \n",
        "      Métodos:\n",
        "      ----------\n",
        "          rebuild(self) -> str:\n",
        "              Função de reconstrução do alinhamento, que começa no canto inferior direito\n",
        "  \"\"\"\n",
        "  def __init__(self, s1: str, s2: str, sm: str, g: int) -> None:\n",
        "    \"\"\"\n",
        "    Constutor com os atributos necessários para a class NW\n",
        "    \"\"\"\n",
        "    self.s1 = s1\n",
        "    self.s2 = s2\n",
        "    self.mat = Mat(len(s1) + 1, len(s2) + 1)\n",
        "    self.tr  = Mat(len(s1) + 1, len(s2) + 1)\n",
        "    self.sm = sm\n",
        "    self.g = g\n",
        "    \n",
        "    for L in range(len(s1)):\n",
        "      self.mat[L + 1][0] = self.g * (L + 1)\n",
        "      self.tr[L + 1][0]  = 'C'\n",
        "\n",
        "    for C in range(len(s2)):\n",
        "      self.mat[0][C + 1] = self.g * (C + 1)\n",
        "      self.tr[0][C + 1]  = 'E'\n",
        "\n",
        "    for L, x1 in enumerate(s1):\n",
        "      for C, x2 in enumerate(s2):\n",
        "        possiveis = [\n",
        "            self.mat[L  ][C    ] + score_pos(self.s1[L-1], self.s2[C-1], self.sm, self.g),   # Diagonal\n",
        "            self.mat[L+1][C    ] + self.g,               # Esquerda\n",
        "            self.mat[L  ][C + 1] + self.g,               # Cima\n",
        "        ]\n",
        "        dirs = \"DEC\"\n",
        "\n",
        "        self.mat[L + 1][C + 1] = max(possiveis)\n",
        "        self.tr[L + 1][C + 1] = dirs[possiveis.index(self.mat[L + 1][C + 1])]\n",
        "\n",
        "  def rebuild(self) -> str:\n",
        "    \"\"\"\n",
        "    Função de reconstrução do alinhamento, que começa no canto inferior direito\n",
        "    \"\"\"\n",
        "    L = len(self.s1)\n",
        "    C = len(self.s2)\n",
        "    S1 = \"\"\n",
        "    S2 = \"\"\n",
        "    \n",
        "    dirs = {\n",
        "        'D' : (-1, -1),\n",
        "        'E' : ( 0, -1),\n",
        "        'C' : (-1,  0)\n",
        "    }\n",
        "\n",
        "    while L > 0 or C > 0:\n",
        "      DL, DC = dirs[self.tr[L][C]]\n",
        "\n",
        "      if self.tr[L][C] == \"D\":\n",
        "        S1 = self.s1[L - 1] + S1\n",
        "        S2 = self.s2[C - 1] + S2\n",
        "      elif self.tr[L][C] == \"E\":\n",
        "        S1 = '-' + S1\n",
        "        S2 = self.s2[C - 1] + S2\n",
        "      else:\n",
        "        S1 = self.s1[L - 1] + S1\n",
        "        S2 = '-' + S2        \n",
        "\n",
        "      L += DL\n",
        "      C += DC\n",
        "\n",
        "    return S1, S2\n",
        "\n",
        "  def __repr__(self) -> str:\n",
        "    cols = \"-\" + self.s2\n",
        "    lins = \"-\" + self.s1\n",
        "    with io.StringIO(\"\") as S:\n",
        "      print(' ', *cols, sep = '   ', file = S)\n",
        "      for L, linha in zip(lins, self.mat):\n",
        "        print(L, *[f'{x:3d}' for x in linha], file = S)\n",
        "\n",
        "      print(file = S)\n",
        "\n",
        "      print(' ', *cols, file = S)\n",
        "      for L, linha in zip(lins, self.tr):\n",
        "        print(L, *linha, file = S)\n",
        "\n",
        "      return S.getvalue()"
      ],
      "metadata": {
        "id": "7E4Z6E4VB3_T"
      },
      "execution_count": null,
      "outputs": []
    },
    {
      "cell_type": "code",
      "source": [
        "try:\n",
        "    g = int(input(\"Introduza o valor de gap penalty: \"))\n",
        "    t = NWblosum(\"ACGTAGCTAG\", \"TTGCTAGATAGT\", sm, g)\n",
        "\n",
        "    print(t)\n",
        "    print(*t.rebuild(), sep= \"\\n\")\n",
        "except:\n",
        "  print(\"ERRO\")"
      ],
      "metadata": {
        "colab": {
          "base_uri": "https://localhost:8080/"
        },
        "id": "Zay2-GcBB7K3",
        "outputId": "f06c5d03-03c5-49a5-9130-1c9ef83855ae"
      },
      "execution_count": null,
      "outputs": [
        {
          "output_type": "stream",
          "name": "stdout",
          "text": [
            "Introduza o valor de gap penalty: -3\n",
            "    -   T   T   G   C   T   A   G   A   T   A   G   T\n",
            "-   0  -3  -6  -9 -12 -15 -18 -21 -24 -27 -30 -33 -36\n",
            "A  -3  -2  -5  -8  -3  -6  -9 -12 -15 -18 -21 -24 -27\n",
            "C  -6  -3  -2  -5  -6  -3  -6  -5  -8 -11 -14 -17 -20\n",
            "G  -9  -6  -4  -3  -6   3   0  -3  -6  -8 -11 -14 -17\n",
            "T -12  -9  -7  -6   3   0   1   0   3   0  -3  -6  -8\n",
            "A -15  -7  -4  -2   0   2   5   2   0   3   5   2  -1\n",
            "G -18 -10  -7  -4  -2   0   2   9   6   4   3   9   6\n",
            "C -21 -13 -10  -7   2  -1  -1   6  15  12   9   6  15\n",
            "T -24 -16 -13 -10  -1  11   8   5  12  15  12   9  12\n",
            "A -27 -19 -11  -8  -4   8  16  13  10  12  20  17  14\n",
            "G -30 -22 -14 -11  -7   5  13  20  17  14  17  24  21\n",
            "\n",
            "  - T T G C T A G A T A G T\n",
            "- 0 E E E E E E E E E E E E\n",
            "A C D D D D E E E D E E E D\n",
            "C C D D D C D D D E D E D E\n",
            "G C C D D E D E E E D E D E\n",
            "T C C C D D E D D D E E E D\n",
            "A C D D D C D D E C D D E E\n",
            "G C C D D D D D D E D D D E\n",
            "C C C C C D E C C D E E E D\n",
            "T C C C C C D E E C D E D C\n",
            "A C D D D C C D E E D D E E\n",
            "G C C C D C C C D E D C D E\n",
            "\n",
            "ACGT-AGCTAG-\n",
            "TTGCTAGATAGT\n"
          ]
        }
      ]
    },
    {
      "cell_type": "markdown",
      "source": [
        "### Documentação NWblosum"
      ],
      "metadata": {
        "id": "0jGfSg5qrMLM"
      }
    },
    {
      "cell_type": "code",
      "source": [
        "print(NWblosum.__doc__)"
      ],
      "metadata": {
        "colab": {
          "base_uri": "https://localhost:8080/"
        },
        "id": "8O47UcJ0lc_8",
        "outputId": "5aa2fc82-ee2b-4f3e-9675-829336865d6e"
      },
      "execution_count": null,
      "outputs": [
        {
          "output_type": "stream",
          "name": "stdout",
          "text": [
            "\n",
            "  Alinhamento global entre duas sequências, utilizando como base a matriz blosum62\n",
            "    \n",
            "      Parâmetros:\n",
            "      ----------\n",
            "          s1 : str\n",
            "              sequência 1 a usar para realizar o alinhamento global\n",
            "          \n",
            "          s2 : str\n",
            "              sequência 1 a usar para realizar o alinhamento global\n",
            "          \n",
            "          sm : str\n",
            "              scoring matrix\n",
            "          \n",
            "          g : int\n",
            "              valor de gap penalty, que é escolhido pelo usuário\n",
            "        \n",
            "      Métodos:\n",
            "      ----------\n",
            "          rebuild(self) -> str:\n",
            "              Função de reconstrução do alinhamento, que começa no canto inferior direito\n",
            "  \n"
          ]
        }
      ]
    },
    {
      "cell_type": "markdown",
      "source": [
        "### Considerações NWBlosum"
      ],
      "metadata": {
        "id": "BN_zNxAcxwUn"
      }
    },
    {
      "cell_type": "markdown",
      "source": [
        "Realizamos o alinhamento global tendo em consideração a matriz blosum62, não limitando as sequências apenas a DNA.\n",
        "\n",
        "Neste caso o utilizador pode escolher o valor de gap penalty, dando um input.\n",
        "\n",
        "(A utilização de try e excepts servem maioritariamente para cumprir requisitos da cadeira de IAPBD)"
      ],
      "metadata": {
        "id": "0eFgORY5x1mk"
      }
    },
    {
      "cell_type": "markdown",
      "source": [
        "## Class Mult_Align"
      ],
      "metadata": {
        "id": "h4TpsevYaYgw"
      }
    },
    {
      "cell_type": "code",
      "source": [
        "class Mult_align:\n",
        "  \"\"\"\n",
        "  Alinhamento múltiplo de sequências\n",
        "\n",
        "\n",
        "      Parâmetros:\n",
        "      ----------\n",
        "          seqs : list\n",
        "              lista com sequências a usar para o alinhamento múltiplo\n",
        "        \n",
        "      Métodos:\n",
        "      ----------\n",
        "          align(self, seq1 : str, seq2: str) -> tuple\n",
        "              Função que utiliza da class NW para fazer o alinhamento global entre duas sequências\n",
        "              Variáveis:\n",
        "                seq1 : str\n",
        "                  sequência 1 para realizar o alinhamento\n",
        "                seq2 : str\n",
        "                  sequência 2 para realizar o alinhamento\n",
        "\n",
        "              Returns:\n",
        "                Tuplo com as duas sequências alinhadas\n",
        "\n",
        "\n",
        "          numberseqs(self) -> int\n",
        "              Conta o número de sequências presentes da lista de sequências dadas\n",
        "            \n",
        "              Returns:\n",
        "                Valor inteiro com o número de sequências presentes na lista\n",
        "\n",
        "\n",
        "          consensus(self, seq1: str, seq2: str) -> str\n",
        "              Recebe duas sequências alinhadas pelo método de NW e devolve a sequência de consenso.\n",
        "                Variáveis:\n",
        "                  seq1 : str\n",
        "                    primeira sequência alinhada\n",
        "                  seq2 : str\n",
        "                    segunda sequência alinhada\n",
        "\n",
        "                Returns:\n",
        "                  String com a sequência de consenso entre as duas sequências alinhadas\n",
        "          \n",
        "\n",
        "          best(self, *cars) -> str\n",
        "                Variáveis:\n",
        "                  cars : str\n",
        "\n",
        "                Returns:\n",
        "                  o caracter mais abundante numa determinada string\n",
        "          \n",
        "\n",
        "          consensus_mult(self, *seqs) -> str\n",
        "              Realiza o consensus do alinhamento múltiplo de duas ou mais sequências presentes na lista dada\n",
        "\n",
        "              Returns:\n",
        "                String com o consensus do alinhamento múltiplo de duas ou mais sequências\n",
        "          \n",
        "          mult_align(self) -> list:\n",
        "              Recebe uma lista de sequências e realiza o alinhamento múltiplo das mesmas\n",
        "\n",
        "              Returns:\n",
        "                Lista com as sequências alinhadas\n",
        "  \"\"\"\n",
        "\n",
        "  def __init__(self, seqs: list) -> None:\n",
        "    \"\"\"\n",
        "    Construtor da class Mult_align\n",
        "    \"\"\"\n",
        "    self.seqs = seqs\n",
        "\n",
        "    if type(self.seqs) != list:\n",
        "      raise TypeError(\"As sequências devem estar numa lista\")\n",
        "\n",
        "    for seq in self.seqs:\n",
        "      for c in seq.upper():\n",
        "        if c not in \"ACTG\":\n",
        "          raise ValueError(\"As sequências devem ser sequências de DNA.\") \n",
        "    \n",
        "    if len(self.seqs) < 2:\n",
        "      raise ValueError(\"Devem ser introduzidas pelo menos 2 sequências.\") \n",
        "\n",
        "\n",
        "  def align(self, seq1: str, seq2: str) -> tuple:\n",
        "    \"\"\"\n",
        "    Função que utiliza da class NW para fazer o alinhamento global entre duas sequências\n",
        "    Variáveis:\n",
        "      seq1 : str\n",
        "        sequência 1 para realizar o alinhamento\n",
        "      seq2 : str\n",
        "        sequência 2 para realizar o alinhamento\n",
        "    Returns:\n",
        "      Tuplo com as duas sequências alinhadas\n",
        "    \"\"\"\n",
        "    nw = NW(seq1, seq2)\n",
        "    return nw.rebuild()\n",
        "\n",
        "\n",
        "  def numberseqs(self) -> int:\n",
        "    \"\"\"\n",
        "    Conta o número de sequências presentes da lista\n",
        "    \"\"\"\n",
        "    return len(self.seqs)\n",
        "\n",
        "  def consensus(self, seq1: str, seq2: str) -> str:\n",
        "    \"\"\"\n",
        "    Recebe duas sequências alinhadas e devolve a sequência de consenso.\n",
        "    \"\"\"\n",
        "    return \"\".join(x1 if x1 != \"-\" else x2 for x1,x2 in zip(seq1,seq2))\n",
        "\n",
        "  def best(self, *cars) -> str:\n",
        "    \"\"\"\n",
        "    Variáveis:\n",
        "      cars : str\n",
        "    Returns:\n",
        "      o caracter mais abundante numa determinada string\n",
        "    \"\"\"\n",
        "    return max(cars, key = lambda x: cars.count(x))\n",
        "\n",
        "  def consensus_mult(self, *seqs : list) -> str:\n",
        "    \"\"\"\n",
        "    Retorna o consensus do alinhamento múltiplo de duas ou mais sequências\n",
        "    \"\"\"\n",
        "    return ''.join([self.best(*s) for s in zip(*seqs)])\n",
        "\n",
        "  def mult_align(self) -> list:\n",
        "    \"\"\"\n",
        "    Recebe uma lista de sequências e retorna uma lista com as sequências alinhadas\n",
        "    \"\"\"\n",
        "    seq1, seq2, *resto = self.seqs\n",
        "    \n",
        "    aligned1, aligned2 = self.align(seq1,seq2)\n",
        "    consenso = self.consensus_mult(aligned1,aligned2)\n",
        "      \n",
        "    for seq in resto:\n",
        "      aligned1, aligned2 = self.align(consenso,seq)\n",
        "      consenso = self.consensus_mult(aligned1,aligned2)\n",
        "      \n",
        "    alignment = []\n",
        "    for seq in self.seqs:\n",
        "      aligned1, aligned2 = self.align(consenso,seq)\n",
        "      alignment.append(aligned2)\n",
        "\n",
        "    return alignment"
      ],
      "metadata": {
        "id": "81ZDyth28-NS"
      },
      "execution_count": null,
      "outputs": []
    },
    {
      "cell_type": "code",
      "source": [
        "seqM = Mult_align([\"AGCCCCCAT\",\"AGCTCGATGCTAG\", \"AGCTACTAGCTCATGC\"])\n",
        "\n",
        "print(Mult_align([\"AGCCCCCAT\",\"AGCTCGATGCTAG\", \"AGCTACTAGCTCATGC\"]).mult_align())\n",
        "# print(seqs.best())\n",
        "alignment = seqM.mult_align()\n",
        "print('\\n'.join(alignment))\n",
        "print()\n",
        "consensus = seqM.consensus_mult(*alignment)\n",
        "print(consensus)"
      ],
      "metadata": {
        "id": "atZoZT1uA5mw",
        "colab": {
          "base_uri": "https://localhost:8080/"
        },
        "outputId": "1767bddf-e3ba-421f-9e5f-fa5b3c8e1b59"
      },
      "execution_count": null,
      "outputs": [
        {
          "output_type": "stream",
          "name": "stdout",
          "text": [
            "['AGC--C---CCCAT--', 'AGC-TC-GATGC-TAG', 'AGCTACTAGCTCATGC']\n",
            "AGC--C---CCCAT--\n",
            "AGC-TC-GATGC-TAG\n",
            "AGCTACTAGCTCATGC\n",
            "\n",
            "AGC--C---CCCAT--\n"
          ]
        }
      ]
    },
    {
      "cell_type": "markdown",
      "source": [
        "### Testes Class Mult_Align\n"
      ],
      "metadata": {
        "id": "29lXz6Gml-7A"
      }
    },
    {
      "cell_type": "code",
      "source": [
        "class test_mult_align(unittest.TestCase):\n",
        "\n",
        "  def test_DNA_sequences(self):\n",
        "    self.assertEqual(Mult_align([\"AGCTGCA\",\"AGCTCGATGCTAG\", \"AGCTACTAGCTCATGC\"]).mult_align(),[\"AG--C--TGC--A---\",\"AGCTCGATGC-TA--G\",\"AGCTACTAGCTCATGC\"])\n",
        "\n",
        "  def test_one_DNA_sequences(self):\n",
        "    with self.assertRaises(ValueError) as context:\n",
        "      Mult_align([\"AGCTACTAGCTCATGC\"]).mult_align()\n",
        "      self.assertTrue(\"Devem ser introduzidas pelo menos 2 sequências.\") in context.exception\n",
        "\n",
        "  def test_RNA_sequences(self):\n",
        "    with self.assertRaises(ValueError) as context:\n",
        "      Mult_align([\"AGCUGCA\",\"AGCUCGAUGCUAG\", \"AGCUACUAGCUCAUGC\"]).mult_align()\n",
        "      self.assertTrue(\"As sequências devem ser sequências de DNA.\") in context.exception\n",
        "    \n",
        "  def test_AMINO_sequences(self):\n",
        "    with self.assertRaises(ValueError) as context:\n",
        "      Mult_align([\"DHGKSHRU\",\"EFHSHEGFK\", \"EGMNBSHBFHE\"]).mult_align()\n",
        "      self.assertTrue(\"As sequências devem ser sequências de DNA.\") in context.exception\n",
        "\n",
        "  def test_ERROR_sequences(self):\n",
        "    with self.assertRaises(ValueError) as context:\n",
        "      Mult_align([\"DHGKS66983489...4HRU\",\"EFHSHE23764623...GFK\", \"EGMNBSHB28247542-4º+4!FHE\"]).mult_align(),\n",
        "      self.assertTrue(\"As sequências devem ser sequências de DNA.\") in context.exception\n",
        "\n",
        "suite=unittest.TestLoader().loadTestsFromTestCase(test_mult_align)\n",
        "unittest.TextTestRunner( verbosity=3 ).run( suite )"
      ],
      "metadata": {
        "colab": {
          "base_uri": "https://localhost:8080/"
        },
        "id": "CNg1xQqXmNix",
        "outputId": "44df1160-7591-4548-83c6-a8b3b3fca90a"
      },
      "execution_count": null,
      "outputs": [
        {
          "output_type": "stream",
          "name": "stderr",
          "text": [
            "test_AMINO_sequences (__main__.test_mult_align) ... ok\n",
            "test_DNA_sequences (__main__.test_mult_align) ... ok\n",
            "test_ERROR_sequences (__main__.test_mult_align) ... ok\n",
            "test_RNA_sequences (__main__.test_mult_align) ... ok\n",
            "test_one_DNA_sequences (__main__.test_mult_align) ... ok\n",
            "\n",
            "----------------------------------------------------------------------\n",
            "Ran 5 tests in 0.029s\n",
            "\n",
            "OK\n"
          ]
        },
        {
          "output_type": "execute_result",
          "data": {
            "text/plain": [
              "<unittest.runner.TextTestResult run=5 errors=0 failures=0>"
            ]
          },
          "metadata": {},
          "execution_count": 47
        }
      ]
    },
    {
      "cell_type": "code",
      "source": [
        "class test_consensus(unittest.TestCase):\n",
        "\n",
        "  def test_DNA_sequences(self):\n",
        "    alignment = Mult_align([\"AGCTGCA\",\"AGCTCGATGCTAG\", \"AGCTACTAGCTCATGC\"]).mult_align()\n",
        "    self.assertEqual(Mult_align([\"AGCTGCA\",\"AGCTCGATGCTAG\", \"AGCTACTAGCTCATGC\"]).consensus_mult(*alignment),\"AGCTC--TGC--A---\")\n",
        "\n",
        "\n",
        "suite=unittest.TestLoader().loadTestsFromTestCase(test_consensus)\n",
        "unittest.TextTestRunner( verbosity=3 ).run( suite )"
      ],
      "metadata": {
        "colab": {
          "base_uri": "https://localhost:8080/"
        },
        "id": "EN9URZbep4Ci",
        "outputId": "e175d7b5-a8ef-4f58-89f2-27c0753bbc25"
      },
      "execution_count": null,
      "outputs": [
        {
          "output_type": "stream",
          "name": "stderr",
          "text": [
            "test_DNA_sequences (__main__.test_consensus) ... ok\n",
            "\n",
            "----------------------------------------------------------------------\n",
            "Ran 1 test in 0.010s\n",
            "\n",
            "OK\n"
          ]
        },
        {
          "output_type": "execute_result",
          "data": {
            "text/plain": [
              "<unittest.runner.TextTestResult run=1 errors=0 failures=0>"
            ]
          },
          "metadata": {},
          "execution_count": 48
        }
      ]
    },
    {
      "cell_type": "markdown",
      "source": [
        "### Documentação Class Mult_Align"
      ],
      "metadata": {
        "id": "w1FCfwoc5Yyn"
      }
    },
    {
      "cell_type": "code",
      "source": [
        "print(Mult_align.__doc__)"
      ],
      "metadata": {
        "colab": {
          "base_uri": "https://localhost:8080/"
        },
        "id": "Vk9InxTT5eFa",
        "outputId": "114f34ad-a829-4579-d52c-3cf33d987d09"
      },
      "execution_count": null,
      "outputs": [
        {
          "output_type": "stream",
          "name": "stdout",
          "text": [
            "\n",
            "  Alinhamento múltiplo de sequências\n",
            "\n",
            "\n",
            "      Parâmetros:\n",
            "      ----------\n",
            "          seqs : list\n",
            "              lista com sequências a usar para o alinhamento múltiplo\n",
            "        \n",
            "      Métodos:\n",
            "      ----------\n",
            "          align(self, seq1 : str, seq2: str) -> tuple\n",
            "              Função que utiliza da class NW para fazer o alinhamento global entre duas sequências\n",
            "              Variáveis:\n",
            "                seq1 : str\n",
            "                  sequência 1 para realizar o alinhamento\n",
            "                seq2 : str\n",
            "                  sequência 2 para realizar o alinhamento\n",
            "\n",
            "              Returns:\n",
            "                Tuplo com as duas sequências alinhadas\n",
            "\n",
            "\n",
            "          numberseqs(self) -> int\n",
            "              Conta o número de sequências presentes da lista de sequências dadas\n",
            "            \n",
            "              Returns:\n",
            "                Valor inteiro com o número de sequências presentes na lista\n",
            "\n",
            "\n",
            "          consensus(self, seq1: str, seq2: str) -> str\n",
            "              Recebe duas sequências alinhadas pelo método de NW e devolve a sequência de consenso.\n",
            "                Variáveis:\n",
            "                  seq1 : str\n",
            "                    primeira sequência alinhada\n",
            "                  seq2 : str\n",
            "                    segunda sequência alinhada\n",
            "\n",
            "                Returns:\n",
            "                  String com a sequência de consenso entre as duas sequências alinhadas\n",
            "          \n",
            "\n",
            "          best(self, *cars) -> str\n",
            "                Variáveis:\n",
            "                  cars : str\n",
            "\n",
            "                Returns:\n",
            "                  o caracter mais abundante numa determinada string\n",
            "          \n",
            "\n",
            "          consensus_mult(self, *seqs) -> str\n",
            "              Realiza o consensus do alinhamento múltiplo de duas ou mais sequências presentes na lista dada\n",
            "\n",
            "              Returns:\n",
            "                String com o consensus do alinhamento múltiplo de duas ou mais sequências\n",
            "          \n",
            "          mult_align(self) -> list:\n",
            "              Recebe uma lista de sequências e realiza o alinhamento múltiplo das mesmas\n",
            "\n",
            "              Returns:\n",
            "                Lista com as sequências alinhadas\n",
            "  \n"
          ]
        }
      ]
    },
    {
      "cell_type": "markdown",
      "source": [
        "### Considerações Class Mult_Align"
      ],
      "metadata": {
        "id": "bTWwjOJe5oUp"
      }
    },
    {
      "cell_type": "markdown",
      "source": [
        "A class Mult_align tem como objetivo realizar o alinhamento múltiplo entre duas ou mais sequências e encontrar o seu consensus.\n",
        "\n",
        "Os testes permitem confirmar o bom desenho dos métodos criados. Os testes que foram realizados visam verificar que foram introduzidas duas ou mais sequências, de modo a permitir realizar o alinhamento e também perceber se todas as sequências introduzidas são de DNA.\n",
        "\n",
        "Foi apenas realizado um teste para a def consensus_mult para confirmar que o consensus faz sentido, no entanto, não verificamos a presença de apenas sequências de DNA, uma vez que isso é testado anteriormente."
      ],
      "metadata": {
        "id": "TgwalNOr5sCh"
      }
    },
    {
      "cell_type": "markdown",
      "source": [
        "##Class Blast"
      ],
      "metadata": {
        "id": "ehPmVSbeaM1Q"
      }
    },
    {
      "cell_type": "markdown",
      "source": [
        "BLAST"
      ],
      "metadata": {
        "id": "90k1aEjRCj4j"
      }
    },
    {
      "cell_type": "code",
      "source": [
        "pip install mysql.connector"
      ],
      "metadata": {
        "colab": {
          "base_uri": "https://localhost:8080/"
        },
        "id": "fAy1PU3DhOQR",
        "outputId": "19e40ee2-2d3b-49f0-f24a-264c58363687"
      },
      "execution_count": null,
      "outputs": [
        {
          "output_type": "stream",
          "name": "stdout",
          "text": [
            "Looking in indexes: https://pypi.org/simple, https://us-python.pkg.dev/colab-wheels/public/simple/\n",
            "Collecting mysql.connector\n",
            "  Downloading mysql-connector-2.2.9.tar.gz (11.9 MB)\n",
            "\u001b[2K     \u001b[90m━━━━━━━━━━━━━━━━━━━━━━━━━━━━━━━━━━━━━━━━\u001b[0m \u001b[32m11.9/11.9 MB\u001b[0m \u001b[31m49.8 MB/s\u001b[0m eta \u001b[36m0:00:00\u001b[0m\n",
            "\u001b[?25h  Preparing metadata (setup.py) ... \u001b[?25l\u001b[?25hdone\n",
            "Building wheels for collected packages: mysql.connector\n",
            "  Building wheel for mysql.connector (setup.py) ... \u001b[?25l\u001b[?25hdone\n",
            "  Created wheel for mysql.connector: filename=mysql_connector-2.2.9-cp38-cp38-linux_x86_64.whl size=247965 sha256=bdf46bc1a896997bc257dfcff7fff4484ebbe69e5670fdfea25c23342a453dd3\n",
            "  Stored in directory: /root/.cache/pip/wheels/57/e4/98/5feafb5c393dd2540e44b064a6f95832990d543e5b4f53ea8f\n",
            "Successfully built mysql.connector\n",
            "Installing collected packages: mysql.connector\n",
            "Successfully installed mysql.connector-2.2.9\n"
          ]
        }
      ]
    },
    {
      "cell_type": "code",
      "source": [
        "# insert = input()\n",
        "insert = input(\"Introduza um dos seguintes organismos para procurar a respetiva sequência da base de dados: Homo sapiens, Mus musculus, Neurospora crassa, Ciona intestinalis, Nicotiana benthamiana, Chlorarachnion sp. 1 \")\n",
        "\n",
        "def sql_import(insert:str)-> list:\n",
        "  \"\"\"\n",
        "  Função que realiza a conexão à base de dados criada na cadeia de IAPBD e retorna uma lista com a sequência do organismo que o utilizador quiser comparar no BLAST\n",
        "  \n",
        "  Variáveis:\n",
        "    insert : str\n",
        "      input do utilizador com o organismo cuja sequência pretende comparar com a sua sequência query \n",
        "\n",
        "  Returns:\n",
        "    lista da sequência do organismo escolhido\n",
        "  \"\"\"\n",
        "  import mysql.connector as SQLC\n",
        "  try: \n",
        "      DataBase = SQLC.connect(\n",
        "          host =\"geo.di.uminho.pt\",\n",
        "          user =\"bioinformatica\",\n",
        "          password =\"20221207\",\n",
        "          database =\"Project_TJM\"\n",
        "      )\n",
        "      Cursor = DataBase.cursor()\n",
        "\n",
        "      org_list = []\n",
        "      select_org = f\"SELECT Distinct Organism from LOCUS where Organism = '{insert}';\"\n",
        "\n",
        "      Cursor.execute(select_org)\n",
        "      myresult_org = Cursor.fetchall()\n",
        "      for res, in myresult_org:\n",
        "          org_list.append(res)\n",
        "\n",
        "      seq_list = []\n",
        "      select_seq = f\"SELECT Sequence from ORIGIN JOIN GENBANK on ORIGIN.Id_Origin = GENBANK.Id_GB JOIN LOCUS on GENBANK.Id_GB = LOCUS.Id_Locus Where LOCUS.Organism = '{insert}' LIMIT 1;\"\n",
        "\n",
        "      Cursor.execute(select_seq)\n",
        "      myresult_seq = Cursor.fetchall()\n",
        "      for res, in myresult_seq:\n",
        "          seq_list.append(res)\n",
        "  \n",
        "\n",
        "  except SQLC.Error as error:\n",
        "      print(\"Failed to insert record into MySQL table {}\".format(error))\n",
        "  return seq_list\n",
        "sql_import(insert)"
      ],
      "metadata": {
        "colab": {
          "base_uri": "https://localhost:8080/",
          "height": 425
        },
        "id": "cDcCMvd1Hqpe",
        "outputId": "945528d1-850c-49bd-efac-441cba5b29fb"
      },
      "execution_count": null,
      "outputs": [
        {
          "output_type": "error",
          "ename": "KeyboardInterrupt",
          "evalue": "ignored",
          "traceback": [
            "\u001b[0;31m---------------------------------------------------------------------------\u001b[0m",
            "\u001b[0;31mKeyboardInterrupt\u001b[0m                         Traceback (most recent call last)",
            "\u001b[0;32m<ipython-input-51-bb21a60e852c>\u001b[0m in \u001b[0;36m<module>\u001b[0;34m\u001b[0m\n\u001b[1;32m      1\u001b[0m \u001b[0;31m# insert = input()\u001b[0m\u001b[0;34m\u001b[0m\u001b[0;34m\u001b[0m\u001b[0;34m\u001b[0m\u001b[0m\n\u001b[0;32m----> 2\u001b[0;31m \u001b[0minsert\u001b[0m \u001b[0;34m=\u001b[0m \u001b[0minput\u001b[0m\u001b[0;34m(\u001b[0m\u001b[0;34m\"Introduza um dos seguintes organismos para procurar a respetiva sequência da base de dados: Homo sapiens, Mus musculus, Neurospora crassa, Ciona intestinalis, Nicotiana benthamiana, Chlorarachnion sp. 1 \"\u001b[0m\u001b[0;34m)\u001b[0m\u001b[0;34m\u001b[0m\u001b[0;34m\u001b[0m\u001b[0m\n\u001b[0m\u001b[1;32m      3\u001b[0m \u001b[0;34m\u001b[0m\u001b[0m\n\u001b[1;32m      4\u001b[0m \u001b[0;32mdef\u001b[0m \u001b[0msql_import\u001b[0m\u001b[0;34m(\u001b[0m\u001b[0minsert\u001b[0m\u001b[0;34m:\u001b[0m\u001b[0mstr\u001b[0m\u001b[0;34m)\u001b[0m\u001b[0;34m->\u001b[0m \u001b[0mlist\u001b[0m\u001b[0;34m:\u001b[0m\u001b[0;34m\u001b[0m\u001b[0;34m\u001b[0m\u001b[0m\n\u001b[1;32m      5\u001b[0m   \"\"\"\n",
            "\u001b[0;32m/usr/local/lib/python3.8/dist-packages/ipykernel/kernelbase.py\u001b[0m in \u001b[0;36mraw_input\u001b[0;34m(self, prompt)\u001b[0m\n\u001b[1;32m    858\u001b[0m                 \u001b[0;34m\"raw_input was called, but this frontend does not support input requests.\"\u001b[0m\u001b[0;34m\u001b[0m\u001b[0;34m\u001b[0m\u001b[0m\n\u001b[1;32m    859\u001b[0m             )\n\u001b[0;32m--> 860\u001b[0;31m         return self._input_request(str(prompt),\n\u001b[0m\u001b[1;32m    861\u001b[0m             \u001b[0mself\u001b[0m\u001b[0;34m.\u001b[0m\u001b[0m_parent_ident\u001b[0m\u001b[0;34m,\u001b[0m\u001b[0;34m\u001b[0m\u001b[0;34m\u001b[0m\u001b[0m\n\u001b[1;32m    862\u001b[0m             \u001b[0mself\u001b[0m\u001b[0;34m.\u001b[0m\u001b[0m_parent_header\u001b[0m\u001b[0;34m,\u001b[0m\u001b[0;34m\u001b[0m\u001b[0;34m\u001b[0m\u001b[0m\n",
            "\u001b[0;32m/usr/local/lib/python3.8/dist-packages/ipykernel/kernelbase.py\u001b[0m in \u001b[0;36m_input_request\u001b[0;34m(self, prompt, ident, parent, password)\u001b[0m\n\u001b[1;32m    902\u001b[0m             \u001b[0;32mexcept\u001b[0m \u001b[0mKeyboardInterrupt\u001b[0m\u001b[0;34m:\u001b[0m\u001b[0;34m\u001b[0m\u001b[0;34m\u001b[0m\u001b[0m\n\u001b[1;32m    903\u001b[0m                 \u001b[0;31m# re-raise KeyboardInterrupt, to truncate traceback\u001b[0m\u001b[0;34m\u001b[0m\u001b[0;34m\u001b[0m\u001b[0;34m\u001b[0m\u001b[0m\n\u001b[0;32m--> 904\u001b[0;31m                 \u001b[0;32mraise\u001b[0m \u001b[0mKeyboardInterrupt\u001b[0m\u001b[0;34m(\u001b[0m\u001b[0;34m\"Interrupted by user\"\u001b[0m\u001b[0;34m)\u001b[0m \u001b[0;32mfrom\u001b[0m \u001b[0;32mNone\u001b[0m\u001b[0;34m\u001b[0m\u001b[0;34m\u001b[0m\u001b[0m\n\u001b[0m\u001b[1;32m    905\u001b[0m             \u001b[0;32mexcept\u001b[0m \u001b[0mException\u001b[0m \u001b[0;32mas\u001b[0m \u001b[0me\u001b[0m\u001b[0;34m:\u001b[0m\u001b[0;34m\u001b[0m\u001b[0;34m\u001b[0m\u001b[0m\n\u001b[1;32m    906\u001b[0m                 \u001b[0mself\u001b[0m\u001b[0;34m.\u001b[0m\u001b[0mlog\u001b[0m\u001b[0;34m.\u001b[0m\u001b[0mwarning\u001b[0m\u001b[0;34m(\u001b[0m\u001b[0;34m\"Invalid Message:\"\u001b[0m\u001b[0;34m,\u001b[0m \u001b[0mexc_info\u001b[0m\u001b[0;34m=\u001b[0m\u001b[0;32mTrue\u001b[0m\u001b[0;34m)\u001b[0m\u001b[0;34m\u001b[0m\u001b[0;34m\u001b[0m\u001b[0m\n",
            "\u001b[0;31mKeyboardInterrupt\u001b[0m: Interrupted by user"
          ]
        }
      ]
    },
    {
      "cell_type": "code",
      "source": [
        "class Blast:\n",
        "  \"\"\"\n",
        "  BLAST simplificado\n",
        "\n",
        "\n",
        "      Parâmetros:\n",
        "      ----------\n",
        "          query : str\n",
        "              string da sequência query a comparar na base de dados \n",
        "\n",
        "          seq : list\n",
        "              lista com a sequência importada da base de dados SQL\n",
        "            \n",
        "          w : int\n",
        "              valor inteiro da window, que toma, por default, o inteiro 3\n",
        "\n",
        "        \n",
        "      Métodos:\n",
        "      ----------\n",
        "          query_map(self) -> dict\n",
        "              Recebe a sequência e o tamanho w e obtemos um dicionário onde o valor das chaves representam subseqs de tamanho 'w' e os valores representam os offsets (lista de índices)\n",
        "\n",
        "              Returns:\n",
        "                Dicionário em que as chaves são as sequências e os valores são uma lista dos índices\n",
        "\n",
        "\n",
        "          get_all_offsets(self, s1: str, s2: str) -> list\n",
        "              Variáveis:\n",
        "                s1 : str\n",
        "                  sequência 1\n",
        "                s2 : str\n",
        "                  sequência 2\n",
        "              Returns:\n",
        "                Lista com os offsets\n",
        "          \n",
        "\n",
        "          hits(self) -> list \n",
        "              Recebe o dicionário da função query_map e uma sequência da BD e devolve uma lista de hits em que cada elemento é um tuplo com os índices  \n",
        "              \n",
        "              Returns:\n",
        "                Lista[hits], onde hit = o1,o2, onde o1 é o offset da query e o2 é o offset da seq\n",
        "          \n",
        "\n",
        "          extend_hit_dir(self,query: str,seq: str , o1: int, o2: int, direction: int) -> tuple:\n",
        "              Recebe a query, a sequência da BD, o hit e o valor de w e o estende um hit em cada direção se o nº de matches \n",
        "              for de pelo menos metade do tamanho da extensão\n",
        "\n",
        "              Variáveis:\n",
        "                query : str\n",
        "                  sequência query a comparar na base de dados\n",
        "                seq : str\n",
        "                  sequência importada da base de dados SQL\n",
        "                o1 : int\n",
        "                  offset da query\n",
        "                o2 : int\n",
        "                  offset da seq\n",
        "                direction: int\n",
        "                  direção da extensão, que pode ser -1 ou +1\n",
        "              \n",
        "              Returns:\n",
        "                Tuplo com o índice do início do hit estendido na query, na sequência, o tamanho e o nº de matches\n",
        "\n",
        "                      \n",
        "          extend_hit(self,hit) -> tuple\n",
        "              Variáveis:\n",
        "                hit: tuplo (offset da query, offset da seq)\n",
        "              Returns:\n",
        "                tuplo (o1, o2, size, matches)\n",
        "          \n",
        "          best_hit (self) -> tuple\n",
        "              Recebe uma query, uma sequência da BD e o w e que devolve a extensão de maior score (no caso de empate, deverá devolver a de menor tamanho que aparece primeiro)\n",
        "\n",
        "              Returns:\n",
        "                Tuplo com a extensão de maior score\n",
        "  \"\"\"\n",
        "  def __init__(self, query:str, seq:list, w:int=3) -> None:\n",
        "    \"\"\"\n",
        "    Construtor da class Blast\n",
        "    \"\"\"\n",
        "    self.seq = seq\n",
        "    self.query = query\n",
        "    self.w = w\n",
        "\n",
        "    if self.seq == \"\" or self.query == \"\":\n",
        "      raise ValueError(\"A sequência e ou a query não podem ser vazias.\")\n",
        "\n",
        "    if type(self.seq) != str or type(self.query) != str:\n",
        "      raise TypeError(\"A sequência e a query devem ser uma string.\")\n",
        "\n",
        "    for c in self.query.upper() + self.seq.upper():\n",
        "      if c not in \"ACTGN\":\n",
        "        raise ValueError(\"A sequência e a query devem ser sequências de DNA.\")\n",
        "\n",
        "    if type(self.w) != int:\n",
        "      raise TypeError(\"O parâmetro 'w' deve ser um inteiro.\")\n",
        "\n",
        "    if self.w < 2 or self.w > len(self.query):\n",
        "      raise ValueError(\"O valor do parâmetro 'w' deve estar entre o intervalo [2, tamanho da query)].\")\n",
        "\n",
        "  def query_map(self) -> dict:\n",
        "      \"\"\"\n",
        "      Recebe a sequência e o tamanho w e obtemos um dicionário onde o valor das chaves representam subseqs de tamanho 'w' e os valores representam os offsets (lista de índices)\n",
        "\n",
        "      Returns:\n",
        "        Dicionário em que as chaves são as sequências e os valores são uma lista dos índices\n",
        "      \"\"\"\n",
        "      tam = len(self.query)\n",
        "      res = {}\n",
        "      for chave, offset in [(self.query[p:p+self.w], p) for p in range(0, tam - self.w+1)]:\n",
        "          if chave not in res:\n",
        "              res[chave] = []\n",
        "          res[chave].append(offset)\n",
        "      return res\n",
        "\n",
        "  def get_all_offsets(self, s1: str, s2: str) -> list:\n",
        "      \"\"\"\n",
        "      Variáveis:\n",
        "        s1 : str\n",
        "          sequência 1\n",
        "        s2 : str\n",
        "          sequência 2\n",
        "      Returns:\n",
        "        Lista com os offsets\n",
        "      \"\"\"\n",
        "      w = len(s1)\n",
        "      res = []\n",
        "      for p in range(0, len(s2) - w+1):\n",
        "          if s2[p:p+w] == s1:\n",
        "              res.append(p)\n",
        "              \n",
        "      return res\n",
        "\n",
        "  def hits(self) -> list:\n",
        "      \"\"\"      \n",
        "      Recebe o dicionário da função query_map e uma sequência da BD e devolve uma lista de hits em que cada elemento é um tuplo com os índices  \n",
        "              \n",
        "      Returns:\n",
        "        Lista[hits], onde hit = o1,o2, onde o1 é o offset da query e o2 é o offset da seq\n",
        "      \"\"\"\n",
        "      qm = self.query_map()\n",
        "      res = []\n",
        "      for chave, offsets in qm.items():\n",
        "          for o_query in offsets:\n",
        "              for o_seq in self.get_all_offsets(chave, self.seq):\n",
        "                  res.append((o_query, o_seq))\n",
        "      return res\n",
        " \n",
        "\n",
        "  def extend_hit_dir(self,query: str,seq: str , o1: int, o2: int, direction: int) -> tuple:\n",
        "    \"\"\"\n",
        "    Recebe a query, a sequência da BD, o hit e o valor de w e o estende um hit em cada direção se o nº de matches for de pelo menos metade do tamanho da extensão\n",
        "\n",
        "    Variáveis:\n",
        "      query : str\n",
        "        sequência query a comparar na base de dados\n",
        "      seq : str\n",
        "        sequência importada da base de dados SQL\n",
        "      o1 : int\n",
        "        offset da query\n",
        "      o2 : int\n",
        "        offset da seq\n",
        "      direction: int\n",
        "        direção da extensão, que pode ser -1 ou +1\n",
        "    \n",
        "    Returns:\n",
        "      Tuplo com o índice do início do hit estendido na query, na sequência, o tamanho e o nº de matches\n",
        "    \"\"\"\n",
        "    matches = 0\n",
        "    count = 0\n",
        "    while o1 >= 0 and o2 >= 0 and o1 < len(query) and o2 < len(seq):\n",
        "      matches += 1 if query[o1] == seq[o2] else 0\n",
        "      count += 1\n",
        "      if 2 * matches < count:\n",
        "        return o1, o2, matches, count\n",
        "      o1 += direction\n",
        "      o2 += direction\n",
        "    return o1 - direction, o2 - direction, matches, count\n",
        "\n",
        "  def extend_hit(self,hit) -> tuple:\n",
        "    \"\"\"\n",
        "    Variáveis:\n",
        "      hit: tuplo (offset da query, offset da seq)\n",
        "\n",
        "    Returns:\n",
        "     tuplo (o1, o2, size, matches)    \n",
        "    \"\"\"\n",
        "    query: str = self.query\n",
        "    seq: str = self.seq\n",
        "    w: float = self.w\n",
        "\n",
        "    o1, o2 = hit\n",
        "    left  = self.extend_hit_dir(self.query, self.seq, (o1 - 1), (o2 - 1), (-1))\n",
        "    right = self.extend_hit_dir(self.query, self.seq, (o1 + w), (o2 + w), (+1))\n",
        "\n",
        "    \"\"\"\n",
        "    O for offset\n",
        "    M for match\n",
        "    S for size\n",
        "    \"\"\"\n",
        "    O1, O2, ML, SL = left\n",
        "    _,   _, MR, SR = right\n",
        "\n",
        "    return O1, O2, w + SL + SR, ML + w + MR\n",
        "\n",
        "  def best_hit (self) -> tuple:\n",
        "    \"\"\"\n",
        "    Recebe uma query, uma sequência da BD e o w e que devolve a extensão de maior score (no caso de empate, deverá devolver a de menor tamanho que aparece primeiro)\n",
        "\n",
        "    Returns:\n",
        "      Tuplo com a extensão de maior score\n",
        "    \"\"\"\n",
        "    query: str = self.query\n",
        "    seq: str = self.seq\n",
        "    w: float = self.w\n",
        "    qm = self.query_map()\n",
        "    lista_hits = self.hits()\n",
        "    all_scores = [self.extend_hit(hit) for hit in lista_hits]\n",
        "    all_scores.sort(key=lambda hit: hit[2] and hit[3], reverse=True)\n",
        "    if all_scores == []:\n",
        "        return print(\"Not Found\")\n",
        "    else:\n",
        "        return all_scores [0]\n"
      ],
      "metadata": {
        "id": "9tLCkTA3CkxS"
      },
      "execution_count": null,
      "outputs": []
    },
    {
      "cell_type": "code",
      "source": [
        "try:\n",
        "  seq = sql_import(input(\"Introduza um dos seguintes organismos para procurar a respetiva sequência da base de dados: Homo sapiens, Mus musculus, Neurospora crassa, Ciona intestinalis, Nicotiana benthamiana, Chlorarachnion sp. 1\"))[0].upper()\n",
        "  print(seq)\n",
        "  query = Blast(\"AATATAT\", seq, 3 )\n",
        "  query.query_map()\n",
        "  hits = query.hits()\n",
        "  for hit in hits:\n",
        "    print(query.extend_hit(hit))\n",
        "  print('Melhor hit:')\n",
        "  print(query.best_hit())\n",
        "\n",
        "  \n",
        "except:\n",
        "  print(\"ERRO. Insira um organismo válido.\")"
      ],
      "metadata": {
        "id": "KNOAkTRwINC0"
      },
      "execution_count": null,
      "outputs": []
    },
    {
      "cell_type": "code",
      "source": [
        "#teste\n",
        "query = Blast(\"AATATAT\", \"AATATGTTATATAATAATATTT\", 3 )\n",
        "query.query_map()\n",
        "hits = query.hits()\n",
        "for hit in hits:\n",
        "  print(query.extend_hit(hit))\n",
        "print('Best hit')\n",
        "query.best_hit()"
      ],
      "metadata": {
        "id": "r043fxpzNSy_"
      },
      "execution_count": null,
      "outputs": []
    },
    {
      "cell_type": "code",
      "source": [
        "print(Blast.__doc__)"
      ],
      "metadata": {
        "id": "8laZvqYQv3-8"
      },
      "execution_count": null,
      "outputs": []
    },
    {
      "cell_type": "markdown",
      "source": [
        "### Testes Class Blast"
      ],
      "metadata": {
        "id": "IwtHKtLMaR8Z"
      }
    },
    {
      "cell_type": "code",
      "source": [
        "class test_blast(unittest.TestCase):\n",
        "\n",
        "  def test_DNA_sequences(self):\n",
        "    self.assertEqual(Blast(\"AATATAT\", \"AATATGTTNATATAATAATATTT\", 3).best_hit(), (0, 0, 7, 6))\n",
        "\n",
        "  def test_only_one_sequence(self):\n",
        "    with self.assertRaises(ValueError) as context:\n",
        "      Blast(\"\", \"AATATGTTATATAATAATATTT\", 3).best_hit()\n",
        "      self.assertTrue(\"A sequência e ou a query não podem ser vazias.\" in context.exception)\n",
        "\n",
        "  def test_RNA_sequences(self):\n",
        "    with self.assertRaises(ValueError) as context:\n",
        "      Blast(\"AAUAUAU\", \"AAUAUGUUAUAUAAUAATAUUU\", 3).best_hit()\n",
        "      self.assertTrue(\"A sequência e a query devem ser sequências de DNA.\" in context.exception)\n",
        "\n",
        "  def test_AMINO_sequences(self):\n",
        "      with self.assertRaises(ValueError) as context:\n",
        "        Blast(\"FDJHMLAS_SKU\", \"EOHMLAS_EHKFH\", 3).best_hit()\n",
        "        self.assertTrue(\"A sequência e a query devem ser sequências de DNA.\" in context.exception)\n",
        "\n",
        "  def test_ERROR_sequences(self):\n",
        "    with self.assertRaises(ValueError) as context:\n",
        "      Blast(\"4727869837695\", \"EGWJB4KU3HI73982\", 3).best_hit()\n",
        "      self.assertTrue(\"A sequência e a query devem ser sequências de DNA.\" in context.exception)\n",
        "\n",
        "  def test_missing_window(self):\n",
        "    self.assertEqual(Blast(\"AATATAT\", \"AATATGTTATATAATAATATTT\").best_hit(), (0, 0, 7, 6))\n",
        "\n",
        "  def test_different_type_window(self):\n",
        "    with self.assertRaises(TypeError) as context:\n",
        "      Blast(\"AATATAT\", \"AATATGTTATATAATAATATTT\", \"a\").best_hit()\n",
        "      self.assertTrue(\"O parâmetro 'w' deve ser um inteiro.\" in context.exception)\n",
        "\n",
        "  def test_lower_limit_w(self):\n",
        "    with self.assertRaises(ValueError) as context:\n",
        "      Blast(\"AATATAT\", \"AATATGTTATATAATAATATTT\", 1).best_hit()\n",
        "      self.assertTrue(\"O valor do parâmetro 'w' deve estar entre o intervalo [2, tamanho da query)].\" in context.exception)\n",
        "\n",
        "  def test_higher_limit_w(self):\n",
        "    with self.assertRaises(ValueError) as context:\n",
        "      Blast(\"AATATAT\", \"AATATGTTATATAATAATATTT\", 10).best_hit()\n",
        "      self.assertTrue(\"O valor do parâmetro 'w' deve estar entre o intervalo [2, tamanho da query)].\" in context.exception)\n",
        "\n",
        "suite=unittest.TestLoader().loadTestsFromTestCase(test_blast)\n",
        "unittest.TextTestRunner( verbosity=3 ).run( suite )"
      ],
      "metadata": {
        "id": "7Ukylr7mV3e_"
      },
      "execution_count": null,
      "outputs": []
    },
    {
      "cell_type": "markdown",
      "source": [
        "### Documentação Class Blast\n"
      ],
      "metadata": {
        "id": "xxsAiTbv4ktz"
      }
    },
    {
      "cell_type": "code",
      "source": [
        "print(Blast.__doc__)"
      ],
      "metadata": {
        "id": "0aR5DGMd6zYB"
      },
      "execution_count": null,
      "outputs": []
    },
    {
      "cell_type": "markdown",
      "source": [
        "### Considerações Class BLAST"
      ],
      "metadata": {
        "id": "ZfvIjFY063z2"
      }
    },
    {
      "cell_type": "markdown",
      "source": [
        "Nesta class procuramos realizar o Blast simplificado a partir de sequências presentes na base de dados desenhada para a cadeira de IAPBD.\n",
        "\n",
        "Primeiramente definimos uma função onde o utilizador insere o nome de um organismo presente na base de dados cujo pretende comparar a sua sequência com uma sequência query dada. Para isso, realizamos a conexão à base de dados da cadeira de IAPBD para ir buscar esses valores. O organismo a inserir tem que ser um que esteja presente na base de dados e, por isso, são sugeridos no input.\n",
        "\n",
        "Depois definimos que as letras aceitáveis na seq ou query são \"ATGCN\". Isto uma vez que o N representa um nucleótido ambíguo (A ou C ou T ou G) e também porque aparece várias vezes na nossa base de dados. Foi uma solução encontrada de modo a que esta class resulte.\n",
        "\n",
        "Parte dos testes realizados seguem o pensamento utilizado anteriormente, para verificar o tipo de molécula da sequência e também evitar que seja introduzido um valor ou tipo inválido de sequências."
      ],
      "metadata": {
        "id": "EiLiiiVs4ooz"
      }
    },
    {
      "cell_type": "markdown",
      "source": [
        "## Class Enzimas de Restrição/Motifs Prosite\n",
        "\n"
      ],
      "metadata": {
        "id": "PY-kX_Dzu-XQ"
      }
    },
    {
      "cell_type": "code",
      "source": [
        "class Prosite_enzyme:\n",
        "  \"\"\"\n",
        "  Enzimas de restrição e Motifs PROSITE\n",
        "\n",
        "      Parâmetros:\n",
        "      ----------\n",
        "          seq : str\n",
        "              sequência de DNA \n",
        "\n",
        "          enzyme : str\n",
        "              sequência do padrão do local de corte\n",
        "\n",
        "        \n",
        "      Métodos:\n",
        "      ----------\n",
        "          convert(self, enz) -> str\n",
        "              Converte letra da sequência no seu equivalente em nucleótido\n",
        "              Variáveis:\n",
        "                enz : str\n",
        "              Returns:\n",
        "                String de nucleótidos correspondentes a cada caractere de enz \n",
        "\n",
        "          enz_cut(self) -> str\n",
        "              Divide o Enzyme em duas strings, e1 e e2, sequências antes e depois do corte, respetivamente\n",
        "              \n",
        "              Returns:\n",
        "                String com o padrão PROSITE\n",
        "          \n",
        "          position_cut_seq(self) -> list:\n",
        "              Indica os locais onde podem ser feitos os cortes\n",
        "\n",
        "              Returns:\n",
        "                Lista com posições dos possíveis cortes\n",
        "          \n",
        "          cut_seq(self) -> list:\n",
        "              Retorna os fragmentos após corte\n",
        "              \n",
        "              Returns:\n",
        "                Lista com fragmentos após corte\n",
        "                    \n",
        "    \"\"\"\n",
        "  \n",
        "  def __init__(self, seq: str, enzyme:str) -> None:\n",
        "    import re\n",
        "    if type(seq) != str or type(enzyme) != str:\n",
        "      raise TypeError(\"A sequência 'seq' e o local de corte da enzima 'enzyme' devem ser uma string.\")\n",
        "\n",
        "    for c in seq.upper():\n",
        "      if c not in \"ACTG\":\n",
        "        raise ValueError(\"A sequência deve ser uma sequência válida de DNA.\")\n",
        "\n",
        "    for c in enzyme.upper():\n",
        "      if c not in \"^ACTGRYMKSWBDHVN\":\n",
        "        raise ValueError(\"'Enzyme' deve ser uma enzima de restrição válida.\")\n",
        "\n",
        "    a = re.findall(r\"[\\^]+\", enzyme)\n",
        "    if a == []:\n",
        "      raise ValueError(\"'Enzyme' deve ser uma enzima de restrição válida, ou seja, deve apresentar um local de corte.\")\n",
        "    \n",
        "    if len(a)!= 1:\n",
        "      raise ValueError(\"'Enzyme' deve ser uma enzima de restrição válida, ou seja, deve apresentar apenas um local de corte.\")\n",
        "\n",
        "    self.seq = seq\n",
        "    self.enzyme = enzyme\n",
        "\n",
        "  def __getitem__(self, n) -> str:\n",
        "    \"\"\"\n",
        "    Interface para a indexação []\n",
        "    \"\"\"\n",
        "    return self.seq[n]\n",
        "\n",
        "  def convert(self, enz:str) -> str:\n",
        "    \"\"\"\n",
        "    Converte letra da sequência no seu equivalente em nucleótido\n",
        "    Variáveis:\n",
        "      enz : str\n",
        "    Returns:\n",
        "      nucleótidos correspondentes a cada caractere de enz \n",
        "    \"\"\"\n",
        "    enzimas = {\"R\" : \"[GA]\", \"Y\" : \"[CT]\", \"M\" : \"[AC]\", \"K\" : \"[GT]\", \"S\" : \"[GC]\", \"W\" : \"[AT]\", \"B\" : \"[^A]\", \"D\" : \"[^C]\", \"H\" : \"[^G]\", \"V\" : \"[^T]\", \"N\" : \"[ACGT]\"}\n",
        "    return ''.join([enzimas.get(x, x) for x in enz])\n",
        "\n",
        "  def enz_cut(self) -> str:\n",
        "    \"\"\"\n",
        "    Divide o Enzyme em duas strings, e1 e e2, sequências antes e depois do corte, respetivamente\n",
        "\n",
        "    Returns:\n",
        "      String com o padrão PROSITE\n",
        "    \"\"\"\n",
        "    e1, e2 = self.enzyme.split('^')\n",
        "    return f\"(?<={self.convert(e1)}){self.convert(e2)}\"\n",
        "\n",
        "  def position_cut_seq(self) -> list:\n",
        "    \"\"\"\n",
        "    Indica os locais onde podem ser feitos os cortes\n",
        "\n",
        "    Returns:\n",
        "      Lista com posições dos possíveis cortes\n",
        "    \"\"\"\n",
        "    import re\n",
        "    pos = [m.span()[0] for m in re.finditer(self.enz_cut(),self.seq)]\n",
        "    if pos == []:\n",
        "      raise ValueError(\"A sequência não possui locais reconhecidos pela enzima de corte.\")\n",
        "    else:\n",
        "      return pos\n",
        "\n",
        "  def cut_seq(self) -> list:\n",
        "    \"\"\"\n",
        "    Retorna os fragmentos após corte\n",
        "\n",
        "    Returns:\n",
        "      Lista com fragmentos após corte\n",
        "    \"\"\"\n",
        "    pos=self.position_cut_seq()\n",
        "    return [self.seq[i:j] for i,j in zip([0,*pos],[*pos,len(self.seq)])]"
      ],
      "metadata": {
        "id": "nRNYSjyBvBFu"
      },
      "execution_count": null,
      "outputs": []
    },
    {
      "cell_type": "code",
      "source": [
        "teste = Prosite_enzyme(\"TAAGACTGAATGACTCG\",\"G^AMTV\")\n",
        "print(teste.enz_cut())\n",
        "print(teste.position_cut_seq())\n",
        "print(teste.cut_seq())\n",
        "print(teste.convert(\"AMT\"))"
      ],
      "metadata": {
        "id": "W98unXPN13mt"
      },
      "execution_count": null,
      "outputs": []
    },
    {
      "cell_type": "markdown",
      "source": [
        "### Testes Class Prosite_Enzyme"
      ],
      "metadata": {
        "id": "0KkHTrNyBtKX"
      }
    },
    {
      "cell_type": "code",
      "source": [
        "class test_enz_cut(unittest.TestCase):\n",
        "\n",
        "  def test_normal_sequences(self):\n",
        "    self.assertEqual(Prosite_enzyme(\"TAAGACTGAATGACTCG\",\"G^AMTV\").enz_cut(), \"(?<=G)A[AC]T[^T]\")\n",
        "\n",
        "  def test_no_cut(self):\n",
        "    with self.assertRaises(ValueError) as context:\n",
        "      Prosite_enzyme(\"TAAGACTGAATGACTCG\",\"GAMTV\").enz_cut()\n",
        "      self.assertTrue(\"'Enzyme' deve ser uma enzima de restrição válida, ou seja, deve apresentar um local de corte.\") in context.exception\n",
        "\n",
        "  def test_invalid_enzyme(self):\n",
        "    with self.assertRaises(ValueError) as context:\n",
        "      Prosite_enzyme(\"TAAGACTGAATGACTCG\",\"MYT^NVWAEC\").enz_cut()\n",
        "      self.assertTrue(\"'Enzyme' deve ser uma enzima de restrição válida.\") in context.exception\n",
        "\n",
        "  def test_invalid_DNA_sequences(self):\n",
        "    with self.assertRaises(ValueError) as context:\n",
        "      Prosite_enzyme(\"TAAGACTGAATGACTCHG\",\"MYT^NVWAEC\").enz_cut()\n",
        "      self.assertTrue(\"A sequência deve ser uma sequência válida de DNA.\") in context.exception\n",
        "\n",
        "  def test_2_cuts(self):\n",
        "      with self.assertRaises(ValueError) as context:\n",
        "        Prosite_enzyme(\"TAAGACTGAATGACTCHG\",\"MYT^NVWA^EC\").enz_cut()\n",
        "        self.assertTrue(\"'Enzyme' deve ser uma enzima de restrição válida, ou seja, deve apresentar apenas um local de corte.\") in context.exception\n",
        "        \n",
        "\n",
        "suite=unittest.TestLoader().loadTestsFromTestCase(test_enz_cut)\n",
        "unittest.TextTestRunner( verbosity=3 ).run( suite )"
      ],
      "metadata": {
        "id": "4c_EN8f49_xp"
      },
      "execution_count": null,
      "outputs": []
    },
    {
      "cell_type": "code",
      "source": [
        "class test_position_cut_seq(unittest.TestCase):\n",
        "  \n",
        "  def test_normal_sequences(self):\n",
        "    self.assertEqual(Prosite_enzyme(\"TAAGACTGAATGACTCG\",\"G^AMTV\").position_cut_seq(), [4, 8, 12])\n",
        "\n",
        "  def test_no_cuts_recognized(self):\n",
        "      with self.assertRaises(ValueError) as context:\n",
        "        Prosite_enzyme(\"TAAGACTGAATGACTCG\",\"MYT^NVWAC\").position_cut_seq()\n",
        "        self.assertTrue(\"A sequência não possui locais reconhecidos pela enzima de corte.\") in context.exception\n",
        "        \n",
        "suite=unittest.TestLoader().loadTestsFromTestCase(test_position_cut_seq)\n",
        "unittest.TextTestRunner( verbosity=3 ).run( suite )"
      ],
      "metadata": {
        "id": "vbjTXK9IDiM5"
      },
      "execution_count": null,
      "outputs": []
    },
    {
      "cell_type": "code",
      "source": [
        "class test_cut_seq(unittest.TestCase):\n",
        "  \n",
        "  def test_normal_sequences(self):\n",
        "    self.assertEqual(Prosite_enzyme(\"TAAGACTGAATGACTCG\",\"G^AMTV\").cut_seq(), ['TAAG', 'ACTG', 'AATG', 'ACTCG'])\n",
        "\n",
        "  def test_no_cuts_recognized(self):\n",
        "      with self.assertRaises(ValueError) as context:\n",
        "        Prosite_enzyme(\"TAAGACTGAATGACTCG\",\"MYT^NVWAC\").cut_seq()\n",
        "        self.assertTrue(\"A sequência não possui locais reconhecidos pela enzima de corte.\") in context.exception\n",
        "        \n",
        "suite=unittest.TestLoader().loadTestsFromTestCase(test_cut_seq)\n",
        "unittest.TextTestRunner( verbosity=3 ).run( suite )"
      ],
      "metadata": {
        "id": "he8O4hWrc_zo"
      },
      "execution_count": null,
      "outputs": []
    },
    {
      "cell_type": "markdown",
      "source": [
        "### Documentação Class Prosite_enzymes"
      ],
      "metadata": {
        "id": "5775FemvXgyb"
      }
    },
    {
      "cell_type": "code",
      "source": [
        "print(Prosite_enzyme.__doc__)"
      ],
      "metadata": {
        "id": "bqx8ChXLXlpd"
      },
      "execution_count": null,
      "outputs": []
    },
    {
      "cell_type": "markdown",
      "source": [
        "### Considerações Class Prosite_enzymes"
      ],
      "metadata": {
        "id": "pKSJVY2NCDZ6"
      }
    },
    {
      "cell_type": "markdown",
      "source": [
        "Nesta classe nos procuramos defnir metodos que depois de introduzida uma sequencia de DNA e uma sequencia que mostra o corte de uma determinada enzima, mostrar a posição onde corta e os fragmentos que originam.\n",
        "\n",
        "Aqui testamos como em outras classes os tipos de sequencia, que neste caso apenas permitimos DNA, e tambem para confirmar que o nosso programa não funcionava com exemplos de \"enzimas\" que utilizadores inserirem sem ou com 2 ou mais \"^\" que indica uma enzima invalida. E que tambem levaria a erro se a sequencia não tivesse aquele padrao onde certa enzima corta, de forma a que o utilizador saiba que esse é o problema."
      ],
      "metadata": {
        "id": "6xnsZSpBCJKR"
      }
    },
    {
      "cell_type": "markdown",
      "source": [
        "\n",
        "## Class Motifs Probabilisticos"
      ],
      "metadata": {
        "id": "66OM-OK1ac-Z"
      }
    },
    {
      "cell_type": "markdown",
      "source": [
        "MOTIFS PROBABILISTICOS PWM E PSSM"
      ],
      "metadata": {
        "id": "dOVr_xJ_A59I"
      }
    },
    {
      "cell_type": "code",
      "source": [
        "class Motifs:\n",
        "\t\"\"\"\n",
        "\tDeterminação de motifs e perfis probabilísticos (PWM e PSSM).\n",
        "\tPWM, position weight matrix, é uma representação usada de motifs (padrões) em sequências biológicas.\n",
        "\tPSSM, position-specific scoring matrix, usa a matriz anterior e transforma os valores em logaritmos.\n",
        "\n",
        "\n",
        "      Parâmetros:\n",
        "      ----------\n",
        "          seqs : list\n",
        "              lista de sequências \n",
        "\n",
        "          pseudo : float\n",
        "              valor de pseudocontagem\n",
        "\n",
        "        \n",
        "      Métodos:\n",
        "      ----------\n",
        "\t\t\t\n",
        "\t\t\t\tcontagens(self,chars) -> list\n",
        "\t\t\t\t\tConta o número de caracteres em cada posição de todas as sequências\n",
        "\n",
        "\t\t\t\t\tReturns:\n",
        "\t\t\t\t\t\tLista com o número de caracteres em cada posição de todas as sequências\n",
        "\n",
        "\t\t\t\tpwm(self) -> dict\n",
        "\t\t\t\t\tRetorna o valor da probabilidade da ocorrência de cada caracter em cada posição\n",
        "\n",
        "\t\t\t\tpssm(self) -> dict\n",
        "\t\t\t\t\tRetorna o logaritmo do valor da probabilidade da ocorrência de cada caracter em cada posição\n",
        "\n",
        "\t\t\t\tprob_seq(self, seq:str) -> float\n",
        "\t\t\t\t\t\tProbabilidade de dada sequência ser um motif\n",
        "\t\t\t\t\tVariáveis:\n",
        "\t\t\t\t\t\tseq : str\n",
        "\t\t\t\t\t\t\tsequência dada\n",
        "\t\t\t\t\t\n",
        "\t\t\t\t\tReturns: \n",
        "\t\t\t\t\t\tValor float com a probabilidade de a dada sequência ser um motif\n",
        "\n",
        "\t\t\t\tseq_mais_provavel(self, seq : str)-> str\n",
        "\t\t\t\t\t\tDe uma dada nova sequência, identifica um fragmento da sequência mais provável de ser motif\n",
        "\t\t\t\t\tVariáveis:\n",
        "\t\t\t\t\t\tseq : str\n",
        "\n",
        "\t\t\t\t\tReturns:\n",
        "\t\t\t\t\t\tString que com o fragmento da dada sequência mais provável de ser motif\n",
        "\t\"\"\"\n",
        "\n",
        "\tdef __init__(self, seqs: list, pseudo: float) -> None:\n",
        "\n",
        "\t\tif type(seqs) != list:\n",
        "\t\t\traise TypeError(\"O parametro 'seqs' deve ser uma list\")\n",
        "\n",
        "\t\tif not (type(pseudo) == float or type(pseudo)== int):\n",
        "\t\t\traise TypeError(\"O parametro 'pseudo' deve ser um inteiro ou 'float'\")\n",
        "\n",
        "\t\tif pseudo < 0:\n",
        "\t\t\traise ValueError(\"O valor de pseudo não pode ser um número negativo.\")\n",
        "\n",
        "\t\tif len(seqs) < 2:\n",
        "\t\t\traise ValueError(\"São necessárias pelo menos 2 sequências.\")\n",
        "\n",
        "\t\tfor seq in seqs:\n",
        "\t\t\tseq_a = seqs[0]\n",
        "\t\t\tif len(seq_a) != len(seq):\n",
        "\t\t\t\traise ValueError(\"Todas as sequências devem ter o mesmo tamanho.\")\n",
        "\n",
        "\t\tself.seqs = seqs\n",
        "\t\tself.pseudo = pseudo\n",
        "\n",
        "\tdef contagens(self,chars) -> list:\n",
        "\t\t\"\"\"\n",
        "\t\tConta o número de caracteres em cada posição de todas as sequências\n",
        "\t\t\"\"\"\n",
        "\t\treturn [{x : s.count(x) + self.pseudo for x in chars} for s in zip(*self.seqs)]\n",
        "\n",
        "\n",
        "\tdef pwm(self) -> dict:\n",
        "\t\t\"\"\"\n",
        "\t\tRetorna o valor da probabilidade da ocorrência de cada caracter em cada posição\n",
        "\t\t\"\"\"\n",
        "\t\tchars = set(''.join(self.seqs))\n",
        "\t\tcont = self.contagens(chars)\n",
        "\t\treturn [{k: v/sum(d.values()) for k,v in d.items()} for d in cont]\n",
        "\t\n",
        "\n",
        "\tdef pssm(self) -> dict:\n",
        "\t\t\"\"\"\n",
        "\t\tRetorna o logaritmo do valor da probabilidade da ocorrência de cada caracter em cada posição\n",
        "\t\t\"\"\"\n",
        "\t\tif self.pseudo == 0:\n",
        "\t\t\traise ValueError(\"O valor de pseudo para o PSSM não pode ser 0.\")\n",
        "\t\telse:\n",
        "\t\t\tP = self.pwm()\n",
        "\t\t\tnchars = len(set(''.join(self.seqs)))\n",
        "\t\t\tfrom math import log2\n",
        "\t\t\treturn [{k: log2(v/(1/nchars)) for k,v in d.items()} for d in P]\n",
        "\n",
        "\tdef prob_seq(self, seq:str) -> float:\n",
        "\t\t\"\"\"\n",
        "\t\tProbabilidade de dada sequência ser um motif\n",
        "\t\tVariáveis:\n",
        "\t\t\tseq : str\n",
        "\t\t\t\tsequência dada\n",
        "\t\tReturns:\n",
        "\t\t\tRetorna um valor float com a probabilidade de dada sequência ser um motif\n",
        "\t\t\"\"\"\n",
        "\t\tseq=seq.upper()\n",
        "\t\tfor seq1 in self.seqs:\n",
        "\t\t\tif len(seq) > len(seq1):\n",
        "\t\t\t\traise ValueError(\"Query motif não pode ser maior que as sequencia no qual o estamos a procurar.\")\n",
        "\t\t\telse:\n",
        "\t\t\t\tP = 1\n",
        "\t\t\t\tfor p in [d[x] for x, d in zip(seq, self.pwm())]:\n",
        "\t\t\t\t\tP*=p\n",
        "\t\t\t\treturn P \n",
        "\n",
        "\tdef seq_mais_provavel(self, seq : str)-> str:\n",
        "\t\t\"\"\"\n",
        "\t\tDe uma dada nova sequência, identifica um fragmento da sequência mais provável de ser motif\n",
        "\t\tVariáveis:\n",
        "\t\t\tseq : str\n",
        "\n",
        "\t\tReturns:\n",
        "\t\t\tRetorna uma string que com o fragmento da dada sequência mais provável de ser motif\n",
        "\t\t\"\"\"\n",
        "\t\timport re\n",
        "\t\ttam = len(self.pwm())\n",
        "\t\tcand = re.findall(\"(?=(....))\", seq)\n",
        "\t\tpor_prob = lambda C: self.prob_seq(C)\n",
        "\t\treturn max(cand, key = por_prob)"
      ],
      "metadata": {
        "id": "rXg8u2EaA8g_"
      },
      "execution_count": null,
      "outputs": []
    },
    {
      "cell_type": "code",
      "source": [
        "seqs2 = \"\"\"HEM13 CCCATTGTTCTC\n",
        "HEM13 TTTCTGGTTCTC\n",
        "HEM13 TCAATTGTTTAG\n",
        "ANB1 CTCATTGTTGTC\n",
        "ANB1 TCCATTGTTCTC\n",
        "ANB1 CCTATTGTTCTC\n",
        "ANB1 TCCATTGTTCGT\n",
        "ROX1 CCAATTGTTTTG\"\"\"\n",
        "\n",
        "seqs2 = [x.split()[1] for x in seqs2.splitlines()]\n",
        "seqs2\n"
      ],
      "metadata": {
        "id": "d4MAs0Qga4ql"
      },
      "execution_count": null,
      "outputs": []
    },
    {
      "cell_type": "code",
      "source": [
        "teste = Motifs(seqs2, 0.5)\n",
        "Motifs(['CCCATTGTTCTC','TTTCTGGTTCTC','TCAATTGTTTAG'], 0.5).pwm()\n",
        "print(teste.pwm())\n",
        "print(teste.pssm())\n",
        "print(teste.prob_seq('TAAAT'))\n",
        "print(teste.seq_mais_provavel(\"ACCGTGAAAAAA\"))\n",
        "# teste.seq_most()\n",
        "# teste.__calc_profile()"
      ],
      "metadata": {
        "id": "wwgSWK9_PlCh"
      },
      "execution_count": null,
      "outputs": []
    },
    {
      "cell_type": "markdown",
      "source": [
        "\n",
        "### Testes Class Motifs\n"
      ],
      "metadata": {
        "id": "B6WVrmV4YLJT"
      }
    },
    {
      "cell_type": "code",
      "source": [
        "class test_Motifs_pwm(unittest.TestCase):\n",
        "\n",
        "  def test_diff_length_seqs(self):\n",
        "    with self.assertRaises(ValueError) as context:\n",
        "      Motifs([\"AGCTGCA\",\"AGCTCGATGCTAG\", \"AGCTACTAGCTCATGC\"], 0.5).pwm()\n",
        "      self.assertTrue(\"Todas as sequências devem ter o mesmo tamanho.\") in context.exception\n",
        "\n",
        "  def test_one_seq(self):\n",
        "    with self.assertRaises(ValueError) as context:\n",
        "      Motifs([\"AGCTGCA\"], 0.5).pwm()\n",
        "      self.assertTrue(\"São necessárias pelo menos 2 sequências.\") in context.exception\n",
        "\n",
        "  def test_valor_menor_que_0(self):\n",
        "    with self.assertRaises(ValueError) as context:\n",
        "      Motifs(['CCCATTGTTCTC','TTTCTGGTTCTC','TCAATTGTTTAG'], -1).pwm()\n",
        "      self.assertTrue(\"O valor de pseudo não pode ser um número negativo.\") in context.exception\n",
        "\n",
        "\n",
        "suite=unittest.TestLoader().loadTestsFromTestCase(test_Motifs_pwm)\n",
        "unittest.TextTestRunner( verbosity=3 ).run( suite )"
      ],
      "metadata": {
        "id": "4qNUoMtYYJnj"
      },
      "execution_count": null,
      "outputs": []
    },
    {
      "cell_type": "code",
      "source": [
        "class test_Motifs_pssm(unittest.TestCase):\n",
        "\n",
        "  def test_value_equal_0(self):\n",
        "    with self.assertRaises(ValueError) as context:\n",
        "      Motifs(['CCCATTGTTCTC','TTTCTGGTTCTC','TCAATTGTTTAG'], 0).pssm()\n",
        "      self.assertTrue(\"O valor de pseudo para o PSSM não pode ser 0.\") in context.exception\n",
        "\n",
        "\n",
        "suite=unittest.TestLoader().loadTestsFromTestCase(test_Motifs_pssm)\n",
        "unittest.TextTestRunner( verbosity=3 ).run( suite )"
      ],
      "metadata": {
        "id": "DzE8BCENi9AA"
      },
      "execution_count": null,
      "outputs": []
    },
    {
      "cell_type": "code",
      "source": [
        "class test_Motifs_prob_seq(unittest.TestCase):\n",
        "\n",
        "  def test_prob_seq_query_min(self):\n",
        "    self.assertEqual(Motifs(['CCCATTGTTCTC','TTTCTGGTTCTC','TCAATTGTTTAG'], 0.5).prob_seq(\"ttgt\"),0.0015)\n",
        "\n",
        "  def test_prob_seq(self):\n",
        "    self.assertEqual(Motifs(['CCCATTGTTCTC','TTTCTGGTTCTC','TCAATTGTTTAG'], 0.5).prob_seq(\"TTGT\"),0.0015)\n",
        "\n",
        "  def test_prob_seq_query_bigger(self):\n",
        "    with self.assertRaises(ValueError) as context:\n",
        "      Motifs(['CCCATTGTTCTC','TTTCTGGTTCTC','TCAATTGTTTAG'], 0.5).prob_seq(\"TGACAGTCGATCGATGACAGTCA\")\n",
        "      self.assertTrue(\"Query motif não pode ser maior que as sequencia no qual o estamos a procurar.\") in context.exception\n",
        "\n",
        "\n",
        "suite=unittest.TestLoader().loadTestsFromTestCase(test_Motifs_prob_seq)\n",
        "unittest.TextTestRunner( verbosity=3 ).run( suite )"
      ],
      "metadata": {
        "id": "Ua58D2-soSwu"
      },
      "execution_count": null,
      "outputs": []
    },
    {
      "cell_type": "markdown",
      "source": [
        "### Documentação Class Motifs"
      ],
      "metadata": {
        "id": "hM-M5q4XXwqm"
      }
    },
    {
      "cell_type": "code",
      "source": [
        "print(Motifs.__doc__)"
      ],
      "metadata": {
        "id": "evVZ5ZPEXz-H"
      },
      "execution_count": null,
      "outputs": []
    },
    {
      "cell_type": "markdown",
      "source": [
        "### Considerações Class Motifs"
      ],
      "metadata": {
        "id": "KwPnN6UpmmsJ"
      }
    },
    {
      "cell_type": "markdown",
      "source": [
        "Nesta classe procuramos descobrir se a partir de uma série de sequências, a probabilidade de uma dada sequencia ser motif e de uma nova sequencia se existe algum motif possivel encontrado.\n",
        "\n",
        "Nos testes quisemos testar de forma a ver se nos faltava algum pressuposto destas matrizes, como o facto de para a matriz de PSSM o valor de pseudo poderia 0 uma vez que nao existe logoritmo de 0, e para todos ter pseudocontagem de -1."
      ],
      "metadata": {
        "id": "naXpIbwNm3Ob"
      }
    }
  ]
}